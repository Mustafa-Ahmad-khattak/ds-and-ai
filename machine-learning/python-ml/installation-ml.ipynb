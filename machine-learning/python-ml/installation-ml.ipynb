{
 "cells": [
  {
   "cell_type": "markdown",
   "id": "9df72e2e",
   "metadata": {},
   "source": [
    "---\n",
    "# installations:\n",
    "1. create a new conda environment 'python-ml'.\n",
    "2. install the following packages:\n",
    "\n",
    "    1. python, conda install python=3.12\n",
    "    2. numpy\n",
    "    3. pandas\n",
    "    4. scikit-learn\n",
    "    5. matplotlib\n",
    "    6. seaborn\n",
    "    7. jupyter\n",
    "    8. openpyxl\n",
    "    9.  scipy\n",
    "    10. plotly\n",
    "pip install pandas numpy scikit-learn matplotlib seaborn jupyter openpyxl scipy plotly\n",
    "---"
   ]
  },
  {
   "cell_type": "code",
   "execution_count": 1,
   "id": "e6572cf7",
   "metadata": {},
   "outputs": [],
   "source": [
    "# import libraries like pandas, numpy,seaborn, scikit-learn etc.\n",
    "import pandas as pd\n",
    "import numpy as np\n",
    "import matplotlib.pyplot as plt\n",
    "import seaborn as sns\n",
    "from sklearn import linear_model\n"
   ]
  },
  {
   "cell_type": "code",
   "execution_count": null,
   "id": "8a2b5549",
   "metadata": {},
   "outputs": [],
   "source": []
  }
 ],
 "metadata": {
  "kernelspec": {
   "display_name": "python_ml",
   "language": "python",
   "name": "python3"
  },
  "language_info": {
   "codemirror_mode": {
    "name": "ipython",
    "version": 3
   },
   "file_extension": ".py",
   "mimetype": "text/x-python",
   "name": "python",
   "nbconvert_exporter": "python",
   "pygments_lexer": "ipython3",
   "version": "3.13.5"
  }
 },
 "nbformat": 4,
 "nbformat_minor": 5
}
