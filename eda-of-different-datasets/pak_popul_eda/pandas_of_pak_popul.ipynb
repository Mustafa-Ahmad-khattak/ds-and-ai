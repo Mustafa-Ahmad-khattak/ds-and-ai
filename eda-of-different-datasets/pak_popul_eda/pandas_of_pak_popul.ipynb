{
 "cells": [
  {
   "cell_type": "markdown",
   "id": "61611b1a",
   "metadata": {},
   "source": [
    "# Pakistan Population Analysis"
   ]
  },
  {
   "cell_type": "code",
   "execution_count": 1,
   "id": "e3c2c94d",
   "metadata": {},
   "outputs": [],
   "source": [
    "# import libraries \n",
    "import pandas as pd\n",
    "import numpy as np\n",
    "import matplotlib.pyplot as plt \n",
    "import seaborn as sns"
   ]
  },
  {
   "cell_type": "code",
   "execution_count": 2,
   "id": "5d87b763",
   "metadata": {},
   "outputs": [],
   "source": [
    "# import the dataset\n",
    "df = pd.read_csv('sub-division_population_of_pakistan.csv')"
   ]
  },
  {
   "cell_type": "markdown",
   "id": "a98f4a2a",
   "metadata": {},
   "source": [
    "# 1. Composition"
   ]
  },
  {
   "cell_type": "code",
   "execution_count": 3,
   "id": "9d4cfff4",
   "metadata": {},
   "outputs": [
    {
     "name": "stdout",
     "output_type": "stream",
     "text": [
      "<class 'pandas.core.frame.DataFrame'>\n",
      "RangeIndex: 528 entries, 0 to 527\n",
      "Data columns (total 21 columns):\n",
      " #   Column                      Non-Null Count  Dtype  \n",
      "---  ------                      --------------  -----  \n",
      " 0   PROVINCE                    528 non-null    object \n",
      " 1   DIVISION                    528 non-null    object \n",
      " 2   DISTRICT                    528 non-null    object \n",
      " 3   SUB DIVISION                528 non-null    object \n",
      " 4   AREA (sq.km)                528 non-null    float64\n",
      " 5   ALL SEXES (RURAL)           528 non-null    int64  \n",
      " 6   MALE (RURAL)                528 non-null    int64  \n",
      " 7   FEMALE (RURAL)              528 non-null    int64  \n",
      " 8   TRANSGENDER (RURAL)         528 non-null    int64  \n",
      " 9   SEX RATIO (RURAL)           528 non-null    float64\n",
      " 10  AVG HOUSEHOLD SIZE (RURAL)  528 non-null    float64\n",
      " 11  POPULATION 1998 (RURAL)     528 non-null    int64  \n",
      " 12  ANNUAL GROWTH RATE (RURAL)  528 non-null    float64\n",
      " 13  ALL SEXES (URBAN)           528 non-null    int64  \n",
      " 14  MALE (URBAN)                528 non-null    int64  \n",
      " 15  FEMALE (URBAN)              528 non-null    int64  \n",
      " 16  TRANSGENDER (URBAN)         528 non-null    int64  \n",
      " 17  SEX RATIO (URBAN)           528 non-null    float64\n",
      " 18  AVG HOUSEHOLD SIZE (URBAN)  528 non-null    float64\n",
      " 19  POPULATION 1998 (URBAN)     528 non-null    int64  \n",
      " 20  ANNUAL GROWTH RATE (URBAN)  528 non-null    float64\n",
      "dtypes: float64(7), int64(10), object(4)\n",
      "memory usage: 86.8+ KB\n"
     ]
    }
   ],
   "source": [
    "df.info()"
   ]
  },
  {
   "cell_type": "code",
   "execution_count": 4,
   "id": "81c82239",
   "metadata": {},
   "outputs": [
    {
     "data": {
      "application/vnd.microsoft.datawrangler.viewer.v0+json": {
       "columns": [
        {
         "name": "index",
         "rawType": "int64",
         "type": "integer"
        },
        {
         "name": "PROVINCE",
         "rawType": "object",
         "type": "string"
        },
        {
         "name": "DIVISION",
         "rawType": "object",
         "type": "string"
        },
        {
         "name": "DISTRICT",
         "rawType": "object",
         "type": "string"
        },
        {
         "name": "SUB DIVISION",
         "rawType": "object",
         "type": "string"
        },
        {
         "name": "AREA (sq.km)",
         "rawType": "float64",
         "type": "float"
        },
        {
         "name": "ALL SEXES (RURAL)",
         "rawType": "int64",
         "type": "integer"
        },
        {
         "name": "MALE (RURAL)",
         "rawType": "int64",
         "type": "integer"
        },
        {
         "name": "FEMALE (RURAL)",
         "rawType": "int64",
         "type": "integer"
        },
        {
         "name": "TRANSGENDER (RURAL)",
         "rawType": "int64",
         "type": "integer"
        },
        {
         "name": "SEX RATIO (RURAL)",
         "rawType": "float64",
         "type": "float"
        },
        {
         "name": "AVG HOUSEHOLD SIZE (RURAL)",
         "rawType": "float64",
         "type": "float"
        },
        {
         "name": "POPULATION 1998 (RURAL)",
         "rawType": "int64",
         "type": "integer"
        },
        {
         "name": "ANNUAL GROWTH RATE (RURAL)",
         "rawType": "float64",
         "type": "float"
        },
        {
         "name": "ALL SEXES (URBAN)",
         "rawType": "int64",
         "type": "integer"
        },
        {
         "name": "MALE (URBAN)",
         "rawType": "int64",
         "type": "integer"
        },
        {
         "name": "FEMALE (URBAN)",
         "rawType": "int64",
         "type": "integer"
        },
        {
         "name": "TRANSGENDER (URBAN)",
         "rawType": "int64",
         "type": "integer"
        },
        {
         "name": "SEX RATIO (URBAN)",
         "rawType": "float64",
         "type": "float"
        },
        {
         "name": "AVG HOUSEHOLD SIZE (URBAN)",
         "rawType": "float64",
         "type": "float"
        },
        {
         "name": "POPULATION 1998 (URBAN)",
         "rawType": "int64",
         "type": "integer"
        },
        {
         "name": "ANNUAL GROWTH RATE (URBAN)",
         "rawType": "float64",
         "type": "float"
        }
       ],
       "ref": "069298da-415d-4b32-99a2-784f97fd3ecc",
       "rows": [
        [
         "0",
         "PUNJAB",
         "BAHAWALPUR DIVISION",
         "BAHAWALNAGAR DISTRICT",
         "BAHAWALNAGAR TEHSIL",
         "1729.0",
         "619550",
         "316864",
         "302644",
         "42",
         "104.7",
         "6.1",
         "407768",
         "2.22",
         "193840",
         "98391",
         "95402",
         "47",
         "103.13",
         "6.02",
         "133785",
         "1.97"
        ],
        [
         "1",
         "PUNJAB",
         "BAHAWALPUR DIVISION",
         "BAHAWALNAGAR DISTRICT",
         "CHISHTIAN TEHSIL",
         "1500.0",
         "540342",
         "273788",
         "266500",
         "54",
         "102.73",
         "6.15",
         "395983",
         "1.65",
         "149424",
         "75546",
         "73851",
         "27",
         "102.3",
         "6.01",
         "102287",
         "2.01"
        ],
        [
         "2",
         "PUNJAB",
         "BAHAWALPUR DIVISION",
         "BAHAWALNAGAR DISTRICT",
         "FORT ABBAS TEHSIL",
         "2536.0",
         "361240",
         "182655",
         "178541",
         "44",
         "102.3",
         "6.32",
         "250959",
         "1.93",
         "61528",
         "31360",
         "30150",
         "18",
         "104.01",
         "6.0",
         "34637",
         "3.06"
        ],
        [
         "3",
         "PUNJAB",
         "BAHAWALPUR DIVISION",
         "BAHAWALNAGAR DISTRICT",
         "HAROONABAD TEHSIL",
         "1295.0",
         "382115",
         "192278",
         "189808",
         "29",
         "101.3",
         "6.15",
         "297343",
         "1.33",
         "142600",
         "71345",
         "71236",
         "19",
         "100.15",
         "6.02",
         "84424",
         "2.79"
        ],
        [
         "4",
         "PUNJAB",
         "BAHAWALPUR DIVISION",
         "BAHAWALNAGAR DISTRICT",
         "MINCHINABAD TEHSIL",
         "1818.0",
         "452723",
         "231506",
         "221178",
         "39",
         "104.67",
         "6.29",
         "316593",
         "1.9",
         "72294",
         "36694",
         "35590",
         "10",
         "103.1",
         "6.34",
         "37668",
         "3.48"
        ]
       ],
       "shape": {
        "columns": 21,
        "rows": 5
       }
      },
      "text/html": [
       "<div>\n",
       "<style scoped>\n",
       "    .dataframe tbody tr th:only-of-type {\n",
       "        vertical-align: middle;\n",
       "    }\n",
       "\n",
       "    .dataframe tbody tr th {\n",
       "        vertical-align: top;\n",
       "    }\n",
       "\n",
       "    .dataframe thead th {\n",
       "        text-align: right;\n",
       "    }\n",
       "</style>\n",
       "<table border=\"1\" class=\"dataframe\">\n",
       "  <thead>\n",
       "    <tr style=\"text-align: right;\">\n",
       "      <th></th>\n",
       "      <th>PROVINCE</th>\n",
       "      <th>DIVISION</th>\n",
       "      <th>DISTRICT</th>\n",
       "      <th>SUB DIVISION</th>\n",
       "      <th>AREA (sq.km)</th>\n",
       "      <th>ALL SEXES (RURAL)</th>\n",
       "      <th>MALE (RURAL)</th>\n",
       "      <th>FEMALE (RURAL)</th>\n",
       "      <th>TRANSGENDER (RURAL)</th>\n",
       "      <th>SEX RATIO (RURAL)</th>\n",
       "      <th>...</th>\n",
       "      <th>POPULATION 1998 (RURAL)</th>\n",
       "      <th>ANNUAL GROWTH RATE (RURAL)</th>\n",
       "      <th>ALL SEXES (URBAN)</th>\n",
       "      <th>MALE (URBAN)</th>\n",
       "      <th>FEMALE (URBAN)</th>\n",
       "      <th>TRANSGENDER (URBAN)</th>\n",
       "      <th>SEX RATIO (URBAN)</th>\n",
       "      <th>AVG HOUSEHOLD SIZE (URBAN)</th>\n",
       "      <th>POPULATION 1998 (URBAN)</th>\n",
       "      <th>ANNUAL GROWTH RATE (URBAN)</th>\n",
       "    </tr>\n",
       "  </thead>\n",
       "  <tbody>\n",
       "    <tr>\n",
       "      <th>0</th>\n",
       "      <td>PUNJAB</td>\n",
       "      <td>BAHAWALPUR DIVISION</td>\n",
       "      <td>BAHAWALNAGAR DISTRICT</td>\n",
       "      <td>BAHAWALNAGAR TEHSIL</td>\n",
       "      <td>1729.0</td>\n",
       "      <td>619550</td>\n",
       "      <td>316864</td>\n",
       "      <td>302644</td>\n",
       "      <td>42</td>\n",
       "      <td>104.70</td>\n",
       "      <td>...</td>\n",
       "      <td>407768</td>\n",
       "      <td>2.22</td>\n",
       "      <td>193840</td>\n",
       "      <td>98391</td>\n",
       "      <td>95402</td>\n",
       "      <td>47</td>\n",
       "      <td>103.13</td>\n",
       "      <td>6.02</td>\n",
       "      <td>133785</td>\n",
       "      <td>1.97</td>\n",
       "    </tr>\n",
       "    <tr>\n",
       "      <th>1</th>\n",
       "      <td>PUNJAB</td>\n",
       "      <td>BAHAWALPUR DIVISION</td>\n",
       "      <td>BAHAWALNAGAR DISTRICT</td>\n",
       "      <td>CHISHTIAN TEHSIL</td>\n",
       "      <td>1500.0</td>\n",
       "      <td>540342</td>\n",
       "      <td>273788</td>\n",
       "      <td>266500</td>\n",
       "      <td>54</td>\n",
       "      <td>102.73</td>\n",
       "      <td>...</td>\n",
       "      <td>395983</td>\n",
       "      <td>1.65</td>\n",
       "      <td>149424</td>\n",
       "      <td>75546</td>\n",
       "      <td>73851</td>\n",
       "      <td>27</td>\n",
       "      <td>102.30</td>\n",
       "      <td>6.01</td>\n",
       "      <td>102287</td>\n",
       "      <td>2.01</td>\n",
       "    </tr>\n",
       "    <tr>\n",
       "      <th>2</th>\n",
       "      <td>PUNJAB</td>\n",
       "      <td>BAHAWALPUR DIVISION</td>\n",
       "      <td>BAHAWALNAGAR DISTRICT</td>\n",
       "      <td>FORT ABBAS TEHSIL</td>\n",
       "      <td>2536.0</td>\n",
       "      <td>361240</td>\n",
       "      <td>182655</td>\n",
       "      <td>178541</td>\n",
       "      <td>44</td>\n",
       "      <td>102.30</td>\n",
       "      <td>...</td>\n",
       "      <td>250959</td>\n",
       "      <td>1.93</td>\n",
       "      <td>61528</td>\n",
       "      <td>31360</td>\n",
       "      <td>30150</td>\n",
       "      <td>18</td>\n",
       "      <td>104.01</td>\n",
       "      <td>6.00</td>\n",
       "      <td>34637</td>\n",
       "      <td>3.06</td>\n",
       "    </tr>\n",
       "    <tr>\n",
       "      <th>3</th>\n",
       "      <td>PUNJAB</td>\n",
       "      <td>BAHAWALPUR DIVISION</td>\n",
       "      <td>BAHAWALNAGAR DISTRICT</td>\n",
       "      <td>HAROONABAD TEHSIL</td>\n",
       "      <td>1295.0</td>\n",
       "      <td>382115</td>\n",
       "      <td>192278</td>\n",
       "      <td>189808</td>\n",
       "      <td>29</td>\n",
       "      <td>101.30</td>\n",
       "      <td>...</td>\n",
       "      <td>297343</td>\n",
       "      <td>1.33</td>\n",
       "      <td>142600</td>\n",
       "      <td>71345</td>\n",
       "      <td>71236</td>\n",
       "      <td>19</td>\n",
       "      <td>100.15</td>\n",
       "      <td>6.02</td>\n",
       "      <td>84424</td>\n",
       "      <td>2.79</td>\n",
       "    </tr>\n",
       "    <tr>\n",
       "      <th>4</th>\n",
       "      <td>PUNJAB</td>\n",
       "      <td>BAHAWALPUR DIVISION</td>\n",
       "      <td>BAHAWALNAGAR DISTRICT</td>\n",
       "      <td>MINCHINABAD TEHSIL</td>\n",
       "      <td>1818.0</td>\n",
       "      <td>452723</td>\n",
       "      <td>231506</td>\n",
       "      <td>221178</td>\n",
       "      <td>39</td>\n",
       "      <td>104.67</td>\n",
       "      <td>...</td>\n",
       "      <td>316593</td>\n",
       "      <td>1.90</td>\n",
       "      <td>72294</td>\n",
       "      <td>36694</td>\n",
       "      <td>35590</td>\n",
       "      <td>10</td>\n",
       "      <td>103.10</td>\n",
       "      <td>6.34</td>\n",
       "      <td>37668</td>\n",
       "      <td>3.48</td>\n",
       "    </tr>\n",
       "  </tbody>\n",
       "</table>\n",
       "<p>5 rows × 21 columns</p>\n",
       "</div>"
      ],
      "text/plain": [
       "  PROVINCE             DIVISION               DISTRICT         SUB DIVISION  \\\n",
       "0   PUNJAB  BAHAWALPUR DIVISION  BAHAWALNAGAR DISTRICT  BAHAWALNAGAR TEHSIL   \n",
       "1   PUNJAB  BAHAWALPUR DIVISION  BAHAWALNAGAR DISTRICT     CHISHTIAN TEHSIL   \n",
       "2   PUNJAB  BAHAWALPUR DIVISION  BAHAWALNAGAR DISTRICT    FORT ABBAS TEHSIL   \n",
       "3   PUNJAB  BAHAWALPUR DIVISION  BAHAWALNAGAR DISTRICT    HAROONABAD TEHSIL   \n",
       "4   PUNJAB  BAHAWALPUR DIVISION  BAHAWALNAGAR DISTRICT   MINCHINABAD TEHSIL   \n",
       "\n",
       "   AREA (sq.km)  ALL SEXES (RURAL)  MALE (RURAL)  FEMALE (RURAL)  \\\n",
       "0        1729.0             619550        316864          302644   \n",
       "1        1500.0             540342        273788          266500   \n",
       "2        2536.0             361240        182655          178541   \n",
       "3        1295.0             382115        192278          189808   \n",
       "4        1818.0             452723        231506          221178   \n",
       "\n",
       "   TRANSGENDER (RURAL)  SEX RATIO (RURAL)  ...  POPULATION 1998 (RURAL)  \\\n",
       "0                   42             104.70  ...                   407768   \n",
       "1                   54             102.73  ...                   395983   \n",
       "2                   44             102.30  ...                   250959   \n",
       "3                   29             101.30  ...                   297343   \n",
       "4                   39             104.67  ...                   316593   \n",
       "\n",
       "   ANNUAL GROWTH RATE (RURAL)  ALL SEXES (URBAN)  MALE (URBAN)  \\\n",
       "0                        2.22             193840         98391   \n",
       "1                        1.65             149424         75546   \n",
       "2                        1.93              61528         31360   \n",
       "3                        1.33             142600         71345   \n",
       "4                        1.90              72294         36694   \n",
       "\n",
       "   FEMALE (URBAN)  TRANSGENDER (URBAN)  SEX RATIO (URBAN)  \\\n",
       "0           95402                   47             103.13   \n",
       "1           73851                   27             102.30   \n",
       "2           30150                   18             104.01   \n",
       "3           71236                   19             100.15   \n",
       "4           35590                   10             103.10   \n",
       "\n",
       "   AVG HOUSEHOLD SIZE (URBAN)  POPULATION 1998 (URBAN)  \\\n",
       "0                        6.02                   133785   \n",
       "1                        6.01                   102287   \n",
       "2                        6.00                    34637   \n",
       "3                        6.02                    84424   \n",
       "4                        6.34                    37668   \n",
       "\n",
       "   ANNUAL GROWTH RATE (URBAN)  \n",
       "0                        1.97  \n",
       "1                        2.01  \n",
       "2                        3.06  \n",
       "3                        2.79  \n",
       "4                        3.48  \n",
       "\n",
       "[5 rows x 21 columns]"
      ]
     },
     "execution_count": 4,
     "metadata": {},
     "output_type": "execute_result"
    }
   ],
   "source": [
    "df.head()"
   ]
  },
  {
   "cell_type": "code",
   "execution_count": 5,
   "id": "e50fb458",
   "metadata": {},
   "outputs": [
    {
     "data": {
      "text/plain": [
       "Index(['PROVINCE', 'DIVISION', 'DISTRICT', 'SUB DIVISION', 'AREA (sq.km)',\n",
       "       'ALL SEXES (RURAL)', 'MALE (RURAL)', 'FEMALE (RURAL)',\n",
       "       'TRANSGENDER (RURAL)', 'SEX RATIO (RURAL)',\n",
       "       'AVG HOUSEHOLD SIZE (RURAL)', 'POPULATION 1998 (RURAL)',\n",
       "       'ANNUAL GROWTH RATE (RURAL)', 'ALL SEXES (URBAN)', 'MALE (URBAN)',\n",
       "       'FEMALE (URBAN)', 'TRANSGENDER (URBAN)', 'SEX RATIO (URBAN)',\n",
       "       'AVG HOUSEHOLD SIZE (URBAN)', 'POPULATION 1998 (URBAN)',\n",
       "       'ANNUAL GROWTH RATE (URBAN)'],\n",
       "      dtype='object')"
      ]
     },
     "execution_count": 5,
     "metadata": {},
     "output_type": "execute_result"
    }
   ],
   "source": [
    "df.columns"
   ]
  },
  {
   "cell_type": "code",
   "execution_count": 6,
   "id": "0df813af",
   "metadata": {},
   "outputs": [
    {
     "data": {
      "application/vnd.microsoft.datawrangler.viewer.v0+json": {
       "columns": [
        {
         "name": "index",
         "rawType": "object",
         "type": "string"
        },
        {
         "name": "0",
         "rawType": "object",
         "type": "unknown"
        }
       ],
       "ref": "03287132-3d1c-4d5c-b194-85a5b3603c92",
       "rows": [
        [
         "PROVINCE",
         "object"
        ],
        [
         "DIVISION",
         "object"
        ],
        [
         "DISTRICT",
         "object"
        ],
        [
         "SUB DIVISION",
         "object"
        ],
        [
         "AREA (sq.km)",
         "float64"
        ],
        [
         "ALL SEXES (RURAL)",
         "int64"
        ],
        [
         "MALE (RURAL)",
         "int64"
        ],
        [
         "FEMALE (RURAL)",
         "int64"
        ],
        [
         "TRANSGENDER (RURAL)",
         "int64"
        ],
        [
         "SEX RATIO (RURAL)",
         "float64"
        ],
        [
         "AVG HOUSEHOLD SIZE (RURAL)",
         "float64"
        ],
        [
         "POPULATION 1998 (RURAL)",
         "int64"
        ],
        [
         "ANNUAL GROWTH RATE (RURAL)",
         "float64"
        ],
        [
         "ALL SEXES (URBAN)",
         "int64"
        ],
        [
         "MALE (URBAN)",
         "int64"
        ],
        [
         "FEMALE (URBAN)",
         "int64"
        ],
        [
         "TRANSGENDER (URBAN)",
         "int64"
        ],
        [
         "SEX RATIO (URBAN)",
         "float64"
        ],
        [
         "AVG HOUSEHOLD SIZE (URBAN)",
         "float64"
        ],
        [
         "POPULATION 1998 (URBAN)",
         "int64"
        ],
        [
         "ANNUAL GROWTH RATE (URBAN)",
         "float64"
        ]
       ],
       "shape": {
        "columns": 1,
        "rows": 21
       }
      },
      "text/plain": [
       "PROVINCE                       object\n",
       "DIVISION                       object\n",
       "DISTRICT                       object\n",
       "SUB DIVISION                   object\n",
       "AREA (sq.km)                  float64\n",
       "ALL SEXES (RURAL)               int64\n",
       "MALE (RURAL)                    int64\n",
       "FEMALE (RURAL)                  int64\n",
       "TRANSGENDER (RURAL)             int64\n",
       "SEX RATIO (RURAL)             float64\n",
       "AVG HOUSEHOLD SIZE (RURAL)    float64\n",
       "POPULATION 1998 (RURAL)         int64\n",
       "ANNUAL GROWTH RATE (RURAL)    float64\n",
       "ALL SEXES (URBAN)               int64\n",
       "MALE (URBAN)                    int64\n",
       "FEMALE (URBAN)                  int64\n",
       "TRANSGENDER (URBAN)             int64\n",
       "SEX RATIO (URBAN)             float64\n",
       "AVG HOUSEHOLD SIZE (URBAN)    float64\n",
       "POPULATION 1998 (URBAN)         int64\n",
       "ANNUAL GROWTH RATE (URBAN)    float64\n",
       "dtype: object"
      ]
     },
     "execution_count": 6,
     "metadata": {},
     "output_type": "execute_result"
    }
   ],
   "source": [
    "df.dtypes"
   ]
  },
  {
   "cell_type": "code",
   "execution_count": 7,
   "id": "a1c8738b",
   "metadata": {},
   "outputs": [
    {
     "data": {
      "application/vnd.microsoft.datawrangler.viewer.v0+json": {
       "columns": [
        {
         "name": "index",
         "rawType": "object",
         "type": "string"
        },
        {
         "name": "AREA (sq.km)",
         "rawType": "float64",
         "type": "float"
        },
        {
         "name": "ALL SEXES (RURAL)",
         "rawType": "float64",
         "type": "float"
        },
        {
         "name": "MALE (RURAL)",
         "rawType": "float64",
         "type": "float"
        },
        {
         "name": "FEMALE (RURAL)",
         "rawType": "float64",
         "type": "float"
        },
        {
         "name": "TRANSGENDER (RURAL)",
         "rawType": "float64",
         "type": "float"
        },
        {
         "name": "SEX RATIO (RURAL)",
         "rawType": "float64",
         "type": "float"
        },
        {
         "name": "AVG HOUSEHOLD SIZE (RURAL)",
         "rawType": "float64",
         "type": "float"
        },
        {
         "name": "POPULATION 1998 (RURAL)",
         "rawType": "float64",
         "type": "float"
        },
        {
         "name": "ANNUAL GROWTH RATE (RURAL)",
         "rawType": "float64",
         "type": "float"
        },
        {
         "name": "ALL SEXES (URBAN)",
         "rawType": "float64",
         "type": "float"
        },
        {
         "name": "MALE (URBAN)",
         "rawType": "float64",
         "type": "float"
        },
        {
         "name": "FEMALE (URBAN)",
         "rawType": "float64",
         "type": "float"
        },
        {
         "name": "TRANSGENDER (URBAN)",
         "rawType": "float64",
         "type": "float"
        },
        {
         "name": "SEX RATIO (URBAN)",
         "rawType": "float64",
         "type": "float"
        },
        {
         "name": "AVG HOUSEHOLD SIZE (URBAN)",
         "rawType": "float64",
         "type": "float"
        },
        {
         "name": "POPULATION 1998 (URBAN)",
         "rawType": "float64",
         "type": "float"
        },
        {
         "name": "ANNUAL GROWTH RATE (URBAN)",
         "rawType": "float64",
         "type": "float"
        }
       ],
       "ref": "627f2d8d-96d5-4a42-b8f8-a21802bb04ef",
       "rows": [
        [
         "count",
         "528.0",
         "528.0",
         "528.0",
         "528.0",
         "528.0",
         "528.0",
         "528.0",
         "528.0",
         "528.0",
         "528.0",
         "528.0",
         "528.0",
         "528.0",
         "528.0",
         "528.0",
         "528.0",
         "528.0"
        ],
        [
         "mean",
         "1492.01",
         "246278.01",
         "125275.69",
         "120984.15",
         "18.17",
         "98.98",
         "6.28",
         "167427.99",
         "3.12",
         "140863.53",
         "72843.39",
         "67997.87",
         "22.28",
         "75.41",
         "4.41",
         "80144.57",
         "1.92"
        ],
        [
         "std",
         "2039.45",
         "271189.82",
         "137563.02",
         "133716.9",
         "25.52",
         "26.81",
         "2.07",
         "178388.98",
         "9.58",
         "351246.28",
         "182349.24",
         "168872.53",
         "66.07",
         "49.69",
         "2.95",
         "202312.02",
         "2.1"
        ],
        [
         "min",
         "0.0",
         "0.0",
         "0.0",
         "0.0",
         "0.0",
         "0.0",
         "0.0",
         "0.0",
         "0.0",
         "0.0",
         "0.0",
         "0.0",
         "0.0",
         "0.0",
         "0.0",
         "0.0",
         "0.0"
        ],
        [
         "25%",
         "425.0",
         "50934.5",
         "27127.25",
         "23979.0",
         "1.0",
         "101.1",
         "5.7",
         "35273.5",
         "1.44",
         "0.0",
         "0.0",
         "0.0",
         "0.0",
         "0.0",
         "0.0",
         "0.0",
         "0.0"
        ],
        [
         "50%",
         "882.0",
         "165241.0",
         "84134.5",
         "82044.0",
         "10.0",
         "105.28",
         "6.31",
         "117206.5",
         "2.03",
         "43254.5",
         "21980.0",
         "20999.0",
         "3.0",
         "103.2",
         "5.76",
         "21298.0",
         "1.86"
        ],
        [
         "75%",
         "1734.25",
         "312911.25",
         "160502.25",
         "152219.0",
         "25.0",
         "108.35",
         "7.2",
         "213054.25",
         "2.81",
         "117814.75",
         "60301.75",
         "57465.25",
         "19.0",
         "107.04",
         "6.34",
         "65422.25",
         "2.98"
        ],
        [
         "max",
         "18374.0",
         "2297375.0",
         "1172995.0",
         "1124167.0",
         "213.0",
         "139.38",
         "12.43",
         "1044035.0",
         "100.0",
         "3653616.0",
         "1905921.0",
         "1746900.0",
         "795.0",
         "297.81",
         "10.06",
         "2075867.0",
         "19.78"
        ]
       ],
       "shape": {
        "columns": 17,
        "rows": 8
       }
      },
      "text/html": [
       "<div>\n",
       "<style scoped>\n",
       "    .dataframe tbody tr th:only-of-type {\n",
       "        vertical-align: middle;\n",
       "    }\n",
       "\n",
       "    .dataframe tbody tr th {\n",
       "        vertical-align: top;\n",
       "    }\n",
       "\n",
       "    .dataframe thead th {\n",
       "        text-align: right;\n",
       "    }\n",
       "</style>\n",
       "<table border=\"1\" class=\"dataframe\">\n",
       "  <thead>\n",
       "    <tr style=\"text-align: right;\">\n",
       "      <th></th>\n",
       "      <th>AREA (sq.km)</th>\n",
       "      <th>ALL SEXES (RURAL)</th>\n",
       "      <th>MALE (RURAL)</th>\n",
       "      <th>FEMALE (RURAL)</th>\n",
       "      <th>TRANSGENDER (RURAL)</th>\n",
       "      <th>SEX RATIO (RURAL)</th>\n",
       "      <th>AVG HOUSEHOLD SIZE (RURAL)</th>\n",
       "      <th>POPULATION 1998 (RURAL)</th>\n",
       "      <th>ANNUAL GROWTH RATE (RURAL)</th>\n",
       "      <th>ALL SEXES (URBAN)</th>\n",
       "      <th>MALE (URBAN)</th>\n",
       "      <th>FEMALE (URBAN)</th>\n",
       "      <th>TRANSGENDER (URBAN)</th>\n",
       "      <th>SEX RATIO (URBAN)</th>\n",
       "      <th>AVG HOUSEHOLD SIZE (URBAN)</th>\n",
       "      <th>POPULATION 1998 (URBAN)</th>\n",
       "      <th>ANNUAL GROWTH RATE (URBAN)</th>\n",
       "    </tr>\n",
       "  </thead>\n",
       "  <tbody>\n",
       "    <tr>\n",
       "      <th>count</th>\n",
       "      <td>528.00</td>\n",
       "      <td>528.00</td>\n",
       "      <td>528.00</td>\n",
       "      <td>528.00</td>\n",
       "      <td>528.00</td>\n",
       "      <td>528.00</td>\n",
       "      <td>528.00</td>\n",
       "      <td>528.00</td>\n",
       "      <td>528.00</td>\n",
       "      <td>528.00</td>\n",
       "      <td>528.00</td>\n",
       "      <td>528.00</td>\n",
       "      <td>528.00</td>\n",
       "      <td>528.00</td>\n",
       "      <td>528.00</td>\n",
       "      <td>528.00</td>\n",
       "      <td>528.00</td>\n",
       "    </tr>\n",
       "    <tr>\n",
       "      <th>mean</th>\n",
       "      <td>1492.01</td>\n",
       "      <td>246278.01</td>\n",
       "      <td>125275.69</td>\n",
       "      <td>120984.15</td>\n",
       "      <td>18.17</td>\n",
       "      <td>98.98</td>\n",
       "      <td>6.28</td>\n",
       "      <td>167427.99</td>\n",
       "      <td>3.12</td>\n",
       "      <td>140863.53</td>\n",
       "      <td>72843.39</td>\n",
       "      <td>67997.87</td>\n",
       "      <td>22.28</td>\n",
       "      <td>75.41</td>\n",
       "      <td>4.41</td>\n",
       "      <td>80144.57</td>\n",
       "      <td>1.92</td>\n",
       "    </tr>\n",
       "    <tr>\n",
       "      <th>std</th>\n",
       "      <td>2039.45</td>\n",
       "      <td>271189.82</td>\n",
       "      <td>137563.02</td>\n",
       "      <td>133716.90</td>\n",
       "      <td>25.52</td>\n",
       "      <td>26.81</td>\n",
       "      <td>2.07</td>\n",
       "      <td>178388.98</td>\n",
       "      <td>9.58</td>\n",
       "      <td>351246.28</td>\n",
       "      <td>182349.24</td>\n",
       "      <td>168872.53</td>\n",
       "      <td>66.07</td>\n",
       "      <td>49.69</td>\n",
       "      <td>2.95</td>\n",
       "      <td>202312.02</td>\n",
       "      <td>2.10</td>\n",
       "    </tr>\n",
       "    <tr>\n",
       "      <th>min</th>\n",
       "      <td>0.00</td>\n",
       "      <td>0.00</td>\n",
       "      <td>0.00</td>\n",
       "      <td>0.00</td>\n",
       "      <td>0.00</td>\n",
       "      <td>0.00</td>\n",
       "      <td>0.00</td>\n",
       "      <td>0.00</td>\n",
       "      <td>0.00</td>\n",
       "      <td>0.00</td>\n",
       "      <td>0.00</td>\n",
       "      <td>0.00</td>\n",
       "      <td>0.00</td>\n",
       "      <td>0.00</td>\n",
       "      <td>0.00</td>\n",
       "      <td>0.00</td>\n",
       "      <td>0.00</td>\n",
       "    </tr>\n",
       "    <tr>\n",
       "      <th>25%</th>\n",
       "      <td>425.00</td>\n",
       "      <td>50934.50</td>\n",
       "      <td>27127.25</td>\n",
       "      <td>23979.00</td>\n",
       "      <td>1.00</td>\n",
       "      <td>101.10</td>\n",
       "      <td>5.70</td>\n",
       "      <td>35273.50</td>\n",
       "      <td>1.44</td>\n",
       "      <td>0.00</td>\n",
       "      <td>0.00</td>\n",
       "      <td>0.00</td>\n",
       "      <td>0.00</td>\n",
       "      <td>0.00</td>\n",
       "      <td>0.00</td>\n",
       "      <td>0.00</td>\n",
       "      <td>0.00</td>\n",
       "    </tr>\n",
       "    <tr>\n",
       "      <th>50%</th>\n",
       "      <td>882.00</td>\n",
       "      <td>165241.00</td>\n",
       "      <td>84134.50</td>\n",
       "      <td>82044.00</td>\n",
       "      <td>10.00</td>\n",
       "      <td>105.28</td>\n",
       "      <td>6.31</td>\n",
       "      <td>117206.50</td>\n",
       "      <td>2.03</td>\n",
       "      <td>43254.50</td>\n",
       "      <td>21980.00</td>\n",
       "      <td>20999.00</td>\n",
       "      <td>3.00</td>\n",
       "      <td>103.20</td>\n",
       "      <td>5.76</td>\n",
       "      <td>21298.00</td>\n",
       "      <td>1.86</td>\n",
       "    </tr>\n",
       "    <tr>\n",
       "      <th>75%</th>\n",
       "      <td>1734.25</td>\n",
       "      <td>312911.25</td>\n",
       "      <td>160502.25</td>\n",
       "      <td>152219.00</td>\n",
       "      <td>25.00</td>\n",
       "      <td>108.35</td>\n",
       "      <td>7.20</td>\n",
       "      <td>213054.25</td>\n",
       "      <td>2.81</td>\n",
       "      <td>117814.75</td>\n",
       "      <td>60301.75</td>\n",
       "      <td>57465.25</td>\n",
       "      <td>19.00</td>\n",
       "      <td>107.04</td>\n",
       "      <td>6.34</td>\n",
       "      <td>65422.25</td>\n",
       "      <td>2.98</td>\n",
       "    </tr>\n",
       "    <tr>\n",
       "      <th>max</th>\n",
       "      <td>18374.00</td>\n",
       "      <td>2297375.00</td>\n",
       "      <td>1172995.00</td>\n",
       "      <td>1124167.00</td>\n",
       "      <td>213.00</td>\n",
       "      <td>139.38</td>\n",
       "      <td>12.43</td>\n",
       "      <td>1044035.00</td>\n",
       "      <td>100.00</td>\n",
       "      <td>3653616.00</td>\n",
       "      <td>1905921.00</td>\n",
       "      <td>1746900.00</td>\n",
       "      <td>795.00</td>\n",
       "      <td>297.81</td>\n",
       "      <td>10.06</td>\n",
       "      <td>2075867.00</td>\n",
       "      <td>19.78</td>\n",
       "    </tr>\n",
       "  </tbody>\n",
       "</table>\n",
       "</div>"
      ],
      "text/plain": [
       "       AREA (sq.km)  ALL SEXES (RURAL)  MALE (RURAL)  FEMALE (RURAL)  \\\n",
       "count        528.00             528.00        528.00          528.00   \n",
       "mean        1492.01          246278.01     125275.69       120984.15   \n",
       "std         2039.45          271189.82     137563.02       133716.90   \n",
       "min            0.00               0.00          0.00            0.00   \n",
       "25%          425.00           50934.50      27127.25        23979.00   \n",
       "50%          882.00          165241.00      84134.50        82044.00   \n",
       "75%         1734.25          312911.25     160502.25       152219.00   \n",
       "max        18374.00         2297375.00    1172995.00      1124167.00   \n",
       "\n",
       "       TRANSGENDER (RURAL)  SEX RATIO (RURAL)  AVG HOUSEHOLD SIZE (RURAL)  \\\n",
       "count               528.00             528.00                      528.00   \n",
       "mean                 18.17              98.98                        6.28   \n",
       "std                  25.52              26.81                        2.07   \n",
       "min                   0.00               0.00                        0.00   \n",
       "25%                   1.00             101.10                        5.70   \n",
       "50%                  10.00             105.28                        6.31   \n",
       "75%                  25.00             108.35                        7.20   \n",
       "max                 213.00             139.38                       12.43   \n",
       "\n",
       "       POPULATION 1998 (RURAL)  ANNUAL GROWTH RATE (RURAL)  ALL SEXES (URBAN)  \\\n",
       "count                   528.00                      528.00             528.00   \n",
       "mean                 167427.99                        3.12          140863.53   \n",
       "std                  178388.98                        9.58          351246.28   \n",
       "min                       0.00                        0.00               0.00   \n",
       "25%                   35273.50                        1.44               0.00   \n",
       "50%                  117206.50                        2.03           43254.50   \n",
       "75%                  213054.25                        2.81          117814.75   \n",
       "max                 1044035.00                      100.00         3653616.00   \n",
       "\n",
       "       MALE (URBAN)  FEMALE (URBAN)  TRANSGENDER (URBAN)  SEX RATIO (URBAN)  \\\n",
       "count        528.00          528.00               528.00             528.00   \n",
       "mean       72843.39        67997.87                22.28              75.41   \n",
       "std       182349.24       168872.53                66.07              49.69   \n",
       "min            0.00            0.00                 0.00               0.00   \n",
       "25%            0.00            0.00                 0.00               0.00   \n",
       "50%        21980.00        20999.00                 3.00             103.20   \n",
       "75%        60301.75        57465.25                19.00             107.04   \n",
       "max      1905921.00      1746900.00               795.00             297.81   \n",
       "\n",
       "       AVG HOUSEHOLD SIZE (URBAN)  POPULATION 1998 (URBAN)  \\\n",
       "count                      528.00                   528.00   \n",
       "mean                         4.41                 80144.57   \n",
       "std                          2.95                202312.02   \n",
       "min                          0.00                     0.00   \n",
       "25%                          0.00                     0.00   \n",
       "50%                          5.76                 21298.00   \n",
       "75%                          6.34                 65422.25   \n",
       "max                         10.06               2075867.00   \n",
       "\n",
       "       ANNUAL GROWTH RATE (URBAN)  \n",
       "count                      528.00  \n",
       "mean                         1.92  \n",
       "std                          2.10  \n",
       "min                          0.00  \n",
       "25%                          0.00  \n",
       "50%                          1.86  \n",
       "75%                          2.98  \n",
       "max                         19.78  "
      ]
     },
     "execution_count": 7,
     "metadata": {},
     "output_type": "execute_result"
    }
   ],
   "source": [
    "df.describe().round(2)"
   ]
  },
  {
   "cell_type": "code",
   "execution_count": 8,
   "id": "dda778a2",
   "metadata": {},
   "outputs": [
    {
     "data": {
      "application/vnd.microsoft.datawrangler.viewer.v0+json": {
       "columns": [
        {
         "name": "index",
         "rawType": "object",
         "type": "string"
        },
        {
         "name": "0",
         "rawType": "int64",
         "type": "integer"
        }
       ],
       "ref": "6b1821be-d245-4c06-b909-469783bc185e",
       "rows": [
        [
         "PROVINCE",
         "0"
        ],
        [
         "DIVISION",
         "0"
        ],
        [
         "DISTRICT",
         "0"
        ],
        [
         "SUB DIVISION",
         "0"
        ],
        [
         "AREA (sq.km)",
         "0"
        ],
        [
         "ALL SEXES (RURAL)",
         "0"
        ],
        [
         "MALE (RURAL)",
         "0"
        ],
        [
         "FEMALE (RURAL)",
         "0"
        ],
        [
         "TRANSGENDER (RURAL)",
         "0"
        ],
        [
         "SEX RATIO (RURAL)",
         "0"
        ],
        [
         "AVG HOUSEHOLD SIZE (RURAL)",
         "0"
        ],
        [
         "POPULATION 1998 (RURAL)",
         "0"
        ],
        [
         "ANNUAL GROWTH RATE (RURAL)",
         "0"
        ],
        [
         "ALL SEXES (URBAN)",
         "0"
        ],
        [
         "MALE (URBAN)",
         "0"
        ],
        [
         "FEMALE (URBAN)",
         "0"
        ],
        [
         "TRANSGENDER (URBAN)",
         "0"
        ],
        [
         "SEX RATIO (URBAN)",
         "0"
        ],
        [
         "AVG HOUSEHOLD SIZE (URBAN)",
         "0"
        ],
        [
         "POPULATION 1998 (URBAN)",
         "0"
        ],
        [
         "ANNUAL GROWTH RATE (URBAN)",
         "0"
        ]
       ],
       "shape": {
        "columns": 1,
        "rows": 21
       }
      },
      "text/plain": [
       "PROVINCE                      0\n",
       "DIVISION                      0\n",
       "DISTRICT                      0\n",
       "SUB DIVISION                  0\n",
       "AREA (sq.km)                  0\n",
       "ALL SEXES (RURAL)             0\n",
       "MALE (RURAL)                  0\n",
       "FEMALE (RURAL)                0\n",
       "TRANSGENDER (RURAL)           0\n",
       "SEX RATIO (RURAL)             0\n",
       "AVG HOUSEHOLD SIZE (RURAL)    0\n",
       "POPULATION 1998 (RURAL)       0\n",
       "ANNUAL GROWTH RATE (RURAL)    0\n",
       "ALL SEXES (URBAN)             0\n",
       "MALE (URBAN)                  0\n",
       "FEMALE (URBAN)                0\n",
       "TRANSGENDER (URBAN)           0\n",
       "SEX RATIO (URBAN)             0\n",
       "AVG HOUSEHOLD SIZE (URBAN)    0\n",
       "POPULATION 1998 (URBAN)       0\n",
       "ANNUAL GROWTH RATE (URBAN)    0\n",
       "dtype: int64"
      ]
     },
     "execution_count": 8,
     "metadata": {},
     "output_type": "execute_result"
    }
   ],
   "source": [
    "# find missing values\n",
    "df.isnull().sum()"
   ]
  },
  {
   "cell_type": "code",
   "execution_count": 9,
   "id": "a4f7378d",
   "metadata": {},
   "outputs": [
    {
     "data": {
      "text/plain": [
       "<Axes: xlabel='AREA (sq.km)', ylabel='Count'>"
      ]
     },
     "execution_count": 9,
     "metadata": {},
     "output_type": "execute_result"
    },
    {
     "data": {
      "image/png": "[encoded data removed]",
      "text/plain": [
       "<Figure size 640x480 with 1 Axes>"
      ]
     },
     "metadata": {},
     "output_type": "display_data"
    }
   ],
   "source": [
    "# plot histplot using seaborn library area column should be on x-axis \n",
    "sns.histplot(df, x=df['AREA (sq.km)'])"
   ]
  },
  {
   "cell_type": "code",
   "execution_count": 10,
   "id": "697cb424",
   "metadata": {},
   "outputs": [
    {
     "data": {
      "text/plain": [
       "<Axes: ylabel='AREA (sq.km)'>"
      ]
     },
     "execution_count": 10,
     "metadata": {},
     "output_type": "execute_result"
    },
    {
     "data": {
      "image/png": "[encoded data removed]",
      "text/plain": [
       "<Figure size 640x480 with 1 Axes>"
      ]
     },
     "metadata": {},
     "output_type": "display_data"
    }
   ],
   "source": [
    "# plot boxplot using seaborn library\n",
    "sns.boxplot(df, y=df['AREA (sq.km)'])"
   ]
  },
  {
   "cell_type": "code",
   "execution_count": 11,
   "id": "85f13897",
   "metadata": {},
   "outputs": [
    {
     "data": {
      "application/vnd.microsoft.datawrangler.viewer.v0+json": {
       "columns": [
        {
         "name": "index",
         "rawType": "object",
         "type": "string"
        },
        {
         "name": "count",
         "rawType": "float64",
         "type": "float"
        },
        {
         "name": "mean",
         "rawType": "float64",
         "type": "float"
        },
        {
         "name": "std",
         "rawType": "float64",
         "type": "float"
        },
        {
         "name": "min",
         "rawType": "float64",
         "type": "float"
        },
        {
         "name": "25%",
         "rawType": "float64",
         "type": "float"
        },
        {
         "name": "50%",
         "rawType": "float64",
         "type": "float"
        },
        {
         "name": "75%",
         "rawType": "float64",
         "type": "float"
        },
        {
         "name": "max",
         "rawType": "float64",
         "type": "float"
        }
       ],
       "ref": "c54013de-7ac9-451b-a2b7-c3eafb6915e5",
       "rows": [
        [
         "AREA (sq.km)",
         "528.0",
         "1492.01",
         "2039.45",
         "0.0",
         "425.0",
         "882.0",
         "1734.25",
         "18374.0"
        ],
        [
         "ALL SEXES (RURAL)",
         "528.0",
         "246278.01",
         "271189.82",
         "0.0",
         "50934.5",
         "165241.0",
         "312911.25",
         "2297375.0"
        ],
        [
         "MALE (RURAL)",
         "528.0",
         "125275.69",
         "137563.02",
         "0.0",
         "27127.25",
         "84134.5",
         "160502.25",
         "1172995.0"
        ],
        [
         "FEMALE (RURAL)",
         "528.0",
         "120984.15",
         "133716.9",
         "0.0",
         "23979.0",
         "82044.0",
         "152219.0",
         "1124167.0"
        ],
        [
         "TRANSGENDER (RURAL)",
         "528.0",
         "18.17",
         "25.52",
         "0.0",
         "1.0",
         "10.0",
         "25.0",
         "213.0"
        ],
        [
         "SEX RATIO (RURAL)",
         "528.0",
         "98.98",
         "26.81",
         "0.0",
         "101.1",
         "105.28",
         "108.35",
         "139.38"
        ],
        [
         "AVG HOUSEHOLD SIZE (RURAL)",
         "528.0",
         "6.28",
         "2.07",
         "0.0",
         "5.7",
         "6.31",
         "7.2",
         "12.43"
        ],
        [
         "POPULATION 1998 (RURAL)",
         "528.0",
         "167427.99",
         "178388.98",
         "0.0",
         "35273.5",
         "117206.5",
         "213054.25",
         "1044035.0"
        ],
        [
         "ANNUAL GROWTH RATE (RURAL)",
         "528.0",
         "3.12",
         "9.58",
         "0.0",
         "1.44",
         "2.03",
         "2.81",
         "100.0"
        ],
        [
         "ALL SEXES (URBAN)",
         "528.0",
         "140863.53",
         "351246.28",
         "0.0",
         "0.0",
         "43254.5",
         "117814.75",
         "3653616.0"
        ],
        [
         "MALE (URBAN)",
         "528.0",
         "72843.39",
         "182349.24",
         "0.0",
         "0.0",
         "21980.0",
         "60301.75",
         "1905921.0"
        ],
        [
         "FEMALE (URBAN)",
         "528.0",
         "67997.87",
         "168872.53",
         "0.0",
         "0.0",
         "20999.0",
         "57465.25",
         "1746900.0"
        ],
        [
         "TRANSGENDER (URBAN)",
         "528.0",
         "22.28",
         "66.07",
         "0.0",
         "0.0",
         "3.0",
         "19.0",
         "795.0"
        ],
        [
         "SEX RATIO (URBAN)",
         "528.0",
         "75.41",
         "49.69",
         "0.0",
         "0.0",
         "103.2",
         "107.04",
         "297.81"
        ],
        [
         "AVG HOUSEHOLD SIZE (URBAN)",
         "528.0",
         "4.41",
         "2.95",
         "0.0",
         "0.0",
         "5.76",
         "6.34",
         "10.06"
        ],
        [
         "POPULATION 1998 (URBAN)",
         "528.0",
         "80144.57",
         "202312.02",
         "0.0",
         "0.0",
         "21298.0",
         "65422.25",
         "2075867.0"
        ],
        [
         "ANNUAL GROWTH RATE (URBAN)",
         "528.0",
         "1.92",
         "2.1",
         "0.0",
         "0.0",
         "1.86",
         "2.98",
         "19.78"
        ]
       ],
       "shape": {
        "columns": 8,
        "rows": 17
       }
      },
      "text/html": [
       "<div>\n",
       "<style scoped>\n",
       "    .dataframe tbody tr th:only-of-type {\n",
       "        vertical-align: middle;\n",
       "    }\n",
       "\n",
       "    .dataframe tbody tr th {\n",
       "        vertical-align: top;\n",
       "    }\n",
       "\n",
       "    .dataframe thead th {\n",
       "        text-align: right;\n",
       "    }\n",
       "</style>\n",
       "<table border=\"1\" class=\"dataframe\">\n",
       "  <thead>\n",
       "    <tr style=\"text-align: right;\">\n",
       "      <th></th>\n",
       "      <th>count</th>\n",
       "      <th>mean</th>\n",
       "      <th>std</th>\n",
       "      <th>min</th>\n",
       "      <th>25%</th>\n",
       "      <th>50%</th>\n",
       "      <th>75%</th>\n",
       "      <th>max</th>\n",
       "    </tr>\n",
       "  </thead>\n",
       "  <tbody>\n",
       "    <tr>\n",
       "      <th>AREA (sq.km)</th>\n",
       "      <td>528.0</td>\n",
       "      <td>1492.01</td>\n",
       "      <td>2039.45</td>\n",
       "      <td>0.0</td>\n",
       "      <td>425.00</td>\n",
       "      <td>882.00</td>\n",
       "      <td>1734.25</td>\n",
       "      <td>18374.00</td>\n",
       "    </tr>\n",
       "    <tr>\n",
       "      <th>ALL SEXES (RURAL)</th>\n",
       "      <td>528.0</td>\n",
       "      <td>246278.01</td>\n",
       "      <td>271189.82</td>\n",
       "      <td>0.0</td>\n",
       "      <td>50934.50</td>\n",
       "      <td>165241.00</td>\n",
       "      <td>312911.25</td>\n",
       "      <td>2297375.00</td>\n",
       "    </tr>\n",
       "    <tr>\n",
       "      <th>MALE (RURAL)</th>\n",
       "      <td>528.0</td>\n",
       "      <td>125275.69</td>\n",
       "      <td>137563.02</td>\n",
       "      <td>0.0</td>\n",
       "      <td>27127.25</td>\n",
       "      <td>84134.50</td>\n",
       "      <td>160502.25</td>\n",
       "      <td>1172995.00</td>\n",
       "    </tr>\n",
       "    <tr>\n",
       "      <th>FEMALE (RURAL)</th>\n",
       "      <td>528.0</td>\n",
       "      <td>120984.15</td>\n",
       "      <td>133716.90</td>\n",
       "      <td>0.0</td>\n",
       "      <td>23979.00</td>\n",
       "      <td>82044.00</td>\n",
       "      <td>152219.00</td>\n",
       "      <td>1124167.00</td>\n",
       "    </tr>\n",
       "    <tr>\n",
       "      <th>TRANSGENDER (RURAL)</th>\n",
       "      <td>528.0</td>\n",
       "      <td>18.17</td>\n",
       "      <td>25.52</td>\n",
       "      <td>0.0</td>\n",
       "      <td>1.00</td>\n",
       "      <td>10.00</td>\n",
       "      <td>25.00</td>\n",
       "      <td>213.00</td>\n",
       "    </tr>\n",
       "    <tr>\n",
       "      <th>SEX RATIO (RURAL)</th>\n",
       "      <td>528.0</td>\n",
       "      <td>98.98</td>\n",
       "      <td>26.81</td>\n",
       "      <td>0.0</td>\n",
       "      <td>101.10</td>\n",
       "      <td>105.28</td>\n",
       "      <td>108.35</td>\n",
       "      <td>139.38</td>\n",
       "    </tr>\n",
       "    <tr>\n",
       "      <th>AVG HOUSEHOLD SIZE (RURAL)</th>\n",
       "      <td>528.0</td>\n",
       "      <td>6.28</td>\n",
       "      <td>2.07</td>\n",
       "      <td>0.0</td>\n",
       "      <td>5.70</td>\n",
       "      <td>6.31</td>\n",
       "      <td>7.20</td>\n",
       "      <td>12.43</td>\n",
       "    </tr>\n",
       "    <tr>\n",
       "      <th>POPULATION 1998 (RURAL)</th>\n",
       "      <td>528.0</td>\n",
       "      <td>167427.99</td>\n",
       "      <td>178388.98</td>\n",
       "      <td>0.0</td>\n",
       "      <td>35273.50</td>\n",
       "      <td>117206.50</td>\n",
       "      <td>213054.25</td>\n",
       "      <td>1044035.00</td>\n",
       "    </tr>\n",
       "    <tr>\n",
       "      <th>ANNUAL GROWTH RATE (RURAL)</th>\n",
       "      <td>528.0</td>\n",
       "      <td>3.12</td>\n",
       "      <td>9.58</td>\n",
       "      <td>0.0</td>\n",
       "      <td>1.44</td>\n",
       "      <td>2.03</td>\n",
       "      <td>2.81</td>\n",
       "      <td>100.00</td>\n",
       "    </tr>\n",
       "    <tr>\n",
       "      <th>ALL SEXES (URBAN)</th>\n",
       "      <td>528.0</td>\n",
       "      <td>140863.53</td>\n",
       "      <td>351246.28</td>\n",
       "      <td>0.0</td>\n",
       "      <td>0.00</td>\n",
       "      <td>43254.50</td>\n",
       "      <td>117814.75</td>\n",
       "      <td>3653616.00</td>\n",
       "    </tr>\n",
       "    <tr>\n",
       "      <th>MALE (URBAN)</th>\n",
       "      <td>528.0</td>\n",
       "      <td>72843.39</td>\n",
       "      <td>182349.24</td>\n",
       "      <td>0.0</td>\n",
       "      <td>0.00</td>\n",
       "      <td>21980.00</td>\n",
       "      <td>60301.75</td>\n",
       "      <td>1905921.00</td>\n",
       "    </tr>\n",
       "    <tr>\n",
       "      <th>FEMALE (URBAN)</th>\n",
       "      <td>528.0</td>\n",
       "      <td>67997.87</td>\n",
       "      <td>168872.53</td>\n",
       "      <td>0.0</td>\n",
       "      <td>0.00</td>\n",
       "      <td>20999.00</td>\n",
       "      <td>57465.25</td>\n",
       "      <td>1746900.00</td>\n",
       "    </tr>\n",
       "    <tr>\n",
       "      <th>TRANSGENDER (URBAN)</th>\n",
       "      <td>528.0</td>\n",
       "      <td>22.28</td>\n",
       "      <td>66.07</td>\n",
       "      <td>0.0</td>\n",
       "      <td>0.00</td>\n",
       "      <td>3.00</td>\n",
       "      <td>19.00</td>\n",
       "      <td>795.00</td>\n",
       "    </tr>\n",
       "    <tr>\n",
       "      <th>SEX RATIO (URBAN)</th>\n",
       "      <td>528.0</td>\n",
       "      <td>75.41</td>\n",
       "      <td>49.69</td>\n",
       "      <td>0.0</td>\n",
       "      <td>0.00</td>\n",
       "      <td>103.20</td>\n",
       "      <td>107.04</td>\n",
       "      <td>297.81</td>\n",
       "    </tr>\n",
       "    <tr>\n",
       "      <th>AVG HOUSEHOLD SIZE (URBAN)</th>\n",
       "      <td>528.0</td>\n",
       "      <td>4.41</td>\n",
       "      <td>2.95</td>\n",
       "      <td>0.0</td>\n",
       "      <td>0.00</td>\n",
       "      <td>5.76</td>\n",
       "      <td>6.34</td>\n",
       "      <td>10.06</td>\n",
       "    </tr>\n",
       "    <tr>\n",
       "      <th>POPULATION 1998 (URBAN)</th>\n",
       "      <td>528.0</td>\n",
       "      <td>80144.57</td>\n",
       "      <td>202312.02</td>\n",
       "      <td>0.0</td>\n",
       "      <td>0.00</td>\n",
       "      <td>21298.00</td>\n",
       "      <td>65422.25</td>\n",
       "      <td>2075867.00</td>\n",
       "    </tr>\n",
       "    <tr>\n",
       "      <th>ANNUAL GROWTH RATE (URBAN)</th>\n",
       "      <td>528.0</td>\n",
       "      <td>1.92</td>\n",
       "      <td>2.10</td>\n",
       "      <td>0.0</td>\n",
       "      <td>0.00</td>\n",
       "      <td>1.86</td>\n",
       "      <td>2.98</td>\n",
       "      <td>19.78</td>\n",
       "    </tr>\n",
       "  </tbody>\n",
       "</table>\n",
       "</div>"
      ],
      "text/plain": [
       "                            count       mean        std  min       25%  \\\n",
       "AREA (sq.km)                528.0    1492.01    2039.45  0.0    425.00   \n",
       "ALL SEXES (RURAL)           528.0  246278.01  271189.82  0.0  50934.50   \n",
       "MALE (RURAL)                528.0  125275.69  137563.02  0.0  27127.25   \n",
       "FEMALE (RURAL)              528.0  120984.15  133716.90  0.0  23979.00   \n",
       "TRANSGENDER (RURAL)         528.0      18.17      25.52  0.0      1.00   \n",
       "SEX RATIO (RURAL)           528.0      98.98      26.81  0.0    101.10   \n",
       "AVG HOUSEHOLD SIZE (RURAL)  528.0       6.28       2.07  0.0      5.70   \n",
       "POPULATION 1998 (RURAL)     528.0  167427.99  178388.98  0.0  35273.50   \n",
       "ANNUAL GROWTH RATE (RURAL)  528.0       3.12       9.58  0.0      1.44   \n",
       "ALL SEXES (URBAN)           528.0  140863.53  351246.28  0.0      0.00   \n",
       "MALE (URBAN)                528.0   72843.39  182349.24  0.0      0.00   \n",
       "FEMALE (URBAN)              528.0   67997.87  168872.53  0.0      0.00   \n",
       "TRANSGENDER (URBAN)         528.0      22.28      66.07  0.0      0.00   \n",
       "SEX RATIO (URBAN)           528.0      75.41      49.69  0.0      0.00   \n",
       "AVG HOUSEHOLD SIZE (URBAN)  528.0       4.41       2.95  0.0      0.00   \n",
       "POPULATION 1998 (URBAN)     528.0   80144.57  202312.02  0.0      0.00   \n",
       "ANNUAL GROWTH RATE (URBAN)  528.0       1.92       2.10  0.0      0.00   \n",
       "\n",
       "                                  50%        75%         max  \n",
       "AREA (sq.km)                   882.00    1734.25    18374.00  \n",
       "ALL SEXES (RURAL)           165241.00  312911.25  2297375.00  \n",
       "MALE (RURAL)                 84134.50  160502.25  1172995.00  \n",
       "FEMALE (RURAL)               82044.00  152219.00  1124167.00  \n",
       "TRANSGENDER (RURAL)             10.00      25.00      213.00  \n",
       "SEX RATIO (RURAL)              105.28     108.35      139.38  \n",
       "AVG HOUSEHOLD SIZE (RURAL)       6.31       7.20       12.43  \n",
       "POPULATION 1998 (RURAL)     117206.50  213054.25  1044035.00  \n",
       "ANNUAL GROWTH RATE (RURAL)       2.03       2.81      100.00  \n",
       "ALL SEXES (URBAN)            43254.50  117814.75  3653616.00  \n",
       "MALE (URBAN)                 21980.00   60301.75  1905921.00  \n",
       "FEMALE (URBAN)               20999.00   57465.25  1746900.00  \n",
       "TRANSGENDER (URBAN)              3.00      19.00      795.00  \n",
       "SEX RATIO (URBAN)              103.20     107.04      297.81  \n",
       "AVG HOUSEHOLD SIZE (URBAN)       5.76       6.34       10.06  \n",
       "POPULATION 1998 (URBAN)      21298.00   65422.25  2075867.00  \n",
       "ANNUAL GROWTH RATE (URBAN)       1.86       2.98       19.78  "
      ]
     },
     "execution_count": 11,
     "metadata": {},
     "output_type": "execute_result"
    }
   ],
   "source": [
    "df.describe().T.round(2)"
   ]
  },
  {
   "cell_type": "markdown",
   "id": "62ec252d",
   "metadata": {},
   "source": [
    "# this is the boxplot of all provinces"
   ]
  },
  {
   "cell_type": "code",
   "execution_count": 12,
   "id": "b94d042d",
   "metadata": {},
   "outputs": [
    {
     "data": {
      "text/plain": [
       "<Axes: xlabel='PROVINCE', ylabel='ALL SEXES (RURAL)'>"
      ]
     },
     "execution_count": 12,
     "metadata": {},
     "output_type": "execute_result"
    },
    {
     "data": {
      "image/png": "[encoded data removed]",
      "text/plain": [
       "<Figure size 640x480 with 1 Axes>"
      ]
     },
     "metadata": {},
     "output_type": "display_data"
    }
   ],
   "source": [
    "# plot boxplot of province column and on y axis plot all sexes using seaborn library \n",
    "sns.boxplot(df, x=df['PROVINCE'], y=df['ALL SEXES (RURAL)']) "
   ]
  },
  {
   "cell_type": "markdown",
   "id": "e5277705",
   "metadata": {},
   "source": [
    "# here we cant plot boxplot of all divisions so we try to use groupby function in next code block"
   ]
  },
  {
   "cell_type": "code",
   "execution_count": 13,
   "id": "1eef89c5",
   "metadata": {},
   "outputs": [
    {
     "data": {
      "application/vnd.microsoft.datawrangler.viewer.v0+json": {
       "columns": [
        {
         "name": "DIVISION",
         "rawType": "object",
         "type": "string"
        },
        {
         "name": "0",
         "rawType": "int64",
         "type": "integer"
        }
       ],
       "ref": "73802a16-8f72-4523-9a5e-e569a85bc2d2",
       "rows": [
        [
         "Badin Division",
         "5"
        ],
        [
         "MARDAN DIVISION",
         "7"
        ],
        [
         "SAHIWAL DIVISION",
         "7"
        ],
        [
         "KOHAT DIVISION",
         "14"
        ],
        [
         "MULTAN DIVISION",
         "14"
        ],
        [
         "D.G.KHAN DIVISION",
         "14"
        ],
        [
         "DERA ISMAIL KHAN DIVISION",
         "15"
        ],
        [
         "HAZARA DIVISION",
         "15"
        ],
        [
         "BANNU DIVISION",
         "15"
        ],
        [
         "Shaheed Benazirabad Division",
         "15"
        ],
        [
         "BAHAWALPUR DIVISION",
         "15"
        ],
        [
         "LAHORE DIVISION",
         "17"
        ],
        [
         "SARGODHA DIVISION",
         "17"
        ],
        [
         "FAISALABAD DIVISION",
         "17"
        ],
        [
         "Kalat Division",
         "18"
        ],
        [
         "PESHAWAR DIVISION",
         "18"
        ],
        [
         "Mirpurkhas Division",
         "18"
        ],
        [
         "Sukkur Division",
         "18"
        ],
        [
         "Zhob Division",
         "19"
        ],
        [
         "Naseerabad Division",
         "19"
        ],
        [
         "GUJRANWALA DIVISION",
         "20"
        ],
        [
         "Larkana Division",
         "21"
        ],
        [
         "RAWALPINDI DIVISION",
         "22"
        ],
        [
         "Hyderabad Division",
         "30"
        ],
        [
         "Karachi Division",
         "30"
        ],
        [
         "MALAKAND DIVISION",
         "33"
        ],
        [
         "Makran Division",
         "37"
        ],
        [
         "Quetta Division",
         "38"
        ]
       ],
       "shape": {
        "columns": 1,
        "rows": 28
       }
      },
      "text/plain": [
       "DIVISION\n",
       "Badin Division                   5\n",
       "MARDAN DIVISION                  7\n",
       "SAHIWAL DIVISION                 7\n",
       "KOHAT DIVISION                  14\n",
       "MULTAN DIVISION                 14\n",
       "D.G.KHAN DIVISION               14\n",
       "DERA ISMAIL KHAN DIVISION       15\n",
       "HAZARA DIVISION                 15\n",
       "BANNU DIVISION                  15\n",
       "Shaheed Benazirabad Division    15\n",
       "BAHAWALPUR DIVISION             15\n",
       "LAHORE DIVISION                 17\n",
       "SARGODHA DIVISION               17\n",
       "FAISALABAD DIVISION             17\n",
       "Kalat Division                  18\n",
       "PESHAWAR DIVISION               18\n",
       "Mirpurkhas Division             18\n",
       "Sukkur Division                 18\n",
       "Zhob Division                   19\n",
       "Naseerabad Division             19\n",
       "GUJRANWALA DIVISION             20\n",
       "Larkana Division                21\n",
       "RAWALPINDI DIVISION             22\n",
       "Hyderabad Division              30\n",
       "Karachi Division                30\n",
       "MALAKAND DIVISION               33\n",
       "Makran Division                 37\n",
       "Quetta Division                 38\n",
       "dtype: int64"
      ]
     },
     "execution_count": 13,
     "metadata": {},
     "output_type": "execute_result"
    }
   ],
   "source": [
    "# using groupby function to group the data by division column with numebers of rows\n",
    "df.groupby('DIVISION').size().sort_values()"
   ]
  },
  {
   "cell_type": "code",
   "execution_count": 14,
   "id": "c66136c8",
   "metadata": {},
   "outputs": [
    {
     "data": {
      "application/vnd.microsoft.datawrangler.viewer.v0+json": {
       "columns": [
        {
         "name": "('PROVINCE', 'DISTRICT', 'DIVISION', 'SUB DIVISION')",
         "rawType": "object",
         "type": "unknown"
        },
        {
         "name": "ALL SEXES (RURAL)",
         "rawType": "int64",
         "type": "integer"
        }
       ],
       "ref": "b6e85d61-b72f-4452-925f-149036520137",
       "rows": [
        [
         "('SINDH', 'KARACHI EAST DISTRICT', 'Karachi Division', 'GULSHAN-E-IQBAL TEHSIL')",
         "0"
        ],
        [
         "('SINDH', 'KARACHI EAST DISTRICT', 'Karachi Division', 'JAMSHED QUARTERS TEHSIL')",
         "0"
        ],
        [
         "('SINDH', 'KARACHI EAST DISTRICT', 'Karachi Division', 'GULZAR-E-HIJRI TEHSIL')",
         "0"
        ],
        [
         "('SINDH', 'KARACHI CENTRAL DISTRICT', 'Karachi Division', 'NEW KARACHI TEHSIL')",
         "0"
        ],
        [
         "('SINDH', 'KARACHI CENTRAL DISTRICT', 'Karachi Division', 'LIAQUATABAD TEHSIL')",
         "0"
        ],
        [
         "('SINDH', 'KARACHI CENTRAL DISTRICT', 'Karachi Division', 'NAZIMABAD TEHSIL')",
         "0"
        ],
        [
         "('SINDH', 'KARACHI CENTRAL DISTRICT', 'Karachi Division', 'FEROZABAD TEHSIL')",
         "0"
        ],
        [
         "('PUNJAB', 'LAHORE DISTRICT', 'LAHORE DIVISION', 'MODEL TOWN TEHSIL')",
         "0"
        ],
        [
         "('PUNJAB', 'LAHORE DISTRICT', 'LAHORE DIVISION', 'SHALIMAR TEHSIL')",
         "0"
        ],
        [
         "('SINDH', 'KARACHI SOUTH DISTRICT', 'Karachi Division', 'BALDIA TEHSIL')",
         "0"
        ],
        [
         "('SINDH', 'KARACHI WEST DISTRICT', 'Karachi Division', 'SITE TEHSIL')",
         "0"
        ],
        [
         "('PUNJAB', 'LAHORE DISTRICT', 'LAHORE DIVISION', 'LAHORE CITY TEHSIL')",
         "0"
        ],
        [
         "('SINDH', 'KARACHI CENTRAL DISTRICT', 'Karachi Division', 'NORTH NAZIMABAD TEHSIL')",
         "0"
        ],
        [
         "('SINDH', 'KARACHI EAST DISTRICT', 'Karachi Division', 'ARAM BAGH TEHSIL')",
         "0"
        ],
        [
         "('PUNJAB', 'LAHORE DISTRICT', 'LAHORE DIVISION', 'RAIWIND TEHSIL')",
         "0"
        ],
        [
         "('SINDH', 'SUKKUR DISTRICT', 'Sukkur Division', 'SUKKUR CITY TALUKA')",
         "0"
        ],
        [
         "('PUNJAB', 'BAHAWALPUR DISTRICT', 'BAHAWALPUR DIVISION', 'BAHAWALPUR CITY TEHSIL')",
         "0"
        ],
        [
         "('SINDH', 'HYDERABAD DISTRICT', 'Hyderabad Division', 'HYDERABAD CITY TALUKA')",
         "0"
        ],
        [
         "('SINDH', 'HYDERABAD DISTRICT', 'Hyderabad Division', 'QASIMABAD TALUKA')",
         "0"
        ],
        [
         "('PUNJAB', 'LAHORE DISTRICT', 'LAHORE DIVISION', 'LAHORE CANTT TEHSIL')",
         "0"
        ],
        [
         "('SINDH', 'KORANGI DISTRICT', 'Karachi Division', 'LANDHI TEHSIL')",
         "0"
        ],
        [
         "('SINDH', 'KORANGI DISTRICT', 'Karachi Division', 'MODEL COLONY TEHSIL')",
         "0"
        ],
        [
         "('SINDH', 'KORANGI DISTRICT', 'Karachi Division', 'AIRPORT TEHSIL')",
         "0"
        ],
        [
         "('SINDH', 'KORANGI DISTRICT', 'Karachi Division', 'SHAH FAISAL TEHSIL')",
         "0"
        ],
        [
         "('SINDH', 'KARACHI WEST DISTRICT', 'Karachi Division', 'ORANGI TEHSIL')",
         "0"
        ],
        [
         "('SINDH', 'KARACHI WEST DISTRICT', 'Karachi Division', 'MOMINABAD TEHSIL')",
         "0"
        ],
        [
         "('SINDH', 'KARACHI WEST DISTRICT', 'Karachi Division', 'KORANGI TEHSIL')",
         "0"
        ],
        [
         "('SINDH', 'KARACHI WEST DISTRICT', 'Karachi Division', 'HARBOUR TEHSIL')",
         "0"
        ],
        [
         "('SINDH', 'KARACHI SOUTH DISTRICT', 'Karachi Division', 'SADDAR TEHSIL')",
         "0"
        ],
        [
         "('SINDH', 'KARACHI SOUTH DISTRICT', 'Karachi Division', 'LYARI TEHSIL')",
         "0"
        ],
        [
         "('SINDH', 'KARACHI SOUTH DISTRICT', 'Karachi Division', 'GARDEN TEHSIL')",
         "0"
        ],
        [
         "('SINDH', 'KARACHI SOUTH DISTRICT', 'Karachi Division', 'CIVIL LINES TEHSIL')",
         "0"
        ],
        [
         "('SINDH', 'THATTA DISTRICT', 'Hyderabad Division', 'GULBERG TEHSIL')",
         "0"
        ],
        [
         "('SINDH', 'HYDERABAD DISTRICT', 'Hyderabad Division', 'LATIFABAD TALUKA')",
         "0"
        ],
        [
         "('BALOCHISTAN', 'SIBI DISTRICT', 'Quetta Division', 'SANGAN SUB-TEHSIL')",
         "2665"
        ],
        [
         "('KPK/FATA', 'BAJAUR DISTRICT', 'MALAKAND DIVISION', 'BAR CHAMER KAND TEHSIL')",
         "2868"
        ],
        [
         "('BALOCHISTAN', 'ZHOB DISTRICT', 'Zhob Division', 'KASHATOO SUB-TEHSIL')",
         "5184"
        ],
        [
         "('BALOCHISTAN', 'KALAT DISTRICT', 'Kalat Division', 'GAZG SUB-TEHSIL')",
         "5721"
        ],
        [
         "('BALOCHISTAN', 'SIBI DISTRICT', 'Quetta Division', 'KOT MANDAI SUB-TEHSIL')",
         "7583"
        ],
        [
         "('BALOCHISTAN', 'GWADAR DISTRICT', 'Makran Division', 'ORMARA TEHSIL')",
         "7881"
        ],
        [
         "('BALOCHISTAN', 'GWADAR DISTRICT', 'Makran Division', 'JIWANI TEHSIL')",
         "8423"
        ],
        [
         "('BALOCHISTAN', 'AWARAN DISTRICT', 'Makran Division', 'AWARAN TEHSIL')",
         "8584"
        ],
        [
         "('BALOCHISTAN', 'JHAL MAGSI DISTRICT', 'Naseerabad Division', 'MIRPUR SUB-TEHSIL')",
         "9441"
        ],
        [
         "('BALOCHISTAN', 'HARNAI DISTRICT', 'Quetta Division', 'SHAHRIG TEHSIL')",
         "9458"
        ],
        [
         "('BALOCHISTAN', 'DERA BUGTI DISTRICT', 'Quetta Division', 'SANGSILLAH SUB-TEHSIL')",
         "10217"
        ],
        [
         "('BALOCHISTAN', 'KALAT DISTRICT', 'Kalat Division', 'JOHAN SUB-TEHSIL')",
         "10708"
        ],
        [
         "('BALOCHISTAN', 'GWADAR DISTRICT', 'Makran Division', 'SUNTSER SUB-TEHSIL')",
         "10886"
        ],
        [
         "('BALOCHISTAN', 'LASBELA DISTRICT', 'Makran Division', 'LIARI TEHSIL')",
         "11730"
        ],
        [
         "('KPK/FATA', 'NORTH WAZIRISTAN DISTRICT', 'BANNU DIVISION', 'GHARYUM TEHSIL')",
         "11811"
        ],
        [
         "('BALOCHISTAN', 'HARNAI DISTRICT', 'Quetta Division', 'KHOAST SUB-TEHSIL')",
         "12279"
        ]
       ],
       "shape": {
        "columns": 1,
        "rows": 528
       }
      },
      "text/plain": [
       "PROVINCE  DISTRICT                  DIVISION             SUB DIVISION           \n",
       "SINDH     KARACHI EAST DISTRICT     Karachi Division     GULSHAN-E-IQBAL TEHSIL           0\n",
       "                                                         JAMSHED QUARTERS TEHSIL          0\n",
       "                                                         GULZAR-E-HIJRI TEHSIL            0\n",
       "          KARACHI CENTRAL DISTRICT  Karachi Division     NEW KARACHI TEHSIL               0\n",
       "                                                         LIAQUATABAD TEHSIL               0\n",
       "                                                                                     ...   \n",
       "PUNJAB    MULTAN DISTRICT           MULTAN DIVISION      MULTAN SADDAR TEHSIL       1238708\n",
       "          FAISALABAD DISTRICT       FAISALABAD DIVISION  JARANWALA TEHSIL           1267317\n",
       "          MUZAFFARGARH DISTRICT     D.G.KHAN DIVISION    MUZAFFARGARH TEHSIL        1385109\n",
       "          FAISALABAD DISTRICT       FAISALABAD DIVISION  FAISALABAD SADAR TEHSIL    1425154\n",
       "KPK       PESHAWAR DISTRICT         PESHAWAR DIVISION    PESHAWAR TEHSIL            2297375\n",
       "Name: ALL SEXES (RURAL), Length: 528, dtype: int64"
      ]
     },
     "execution_count": 14,
     "metadata": {},
     "output_type": "execute_result"
    }
   ],
   "source": [
    "# find population of each province, district and division and subdivision of all sexes rural \n",
    "df.groupby(['PROVINCE', 'DISTRICT', 'DIVISION', 'SUB DIVISION'])['ALL SEXES (RURAL)'].sum().sort_values()"
   ]
  },
  {
   "cell_type": "code",
   "execution_count": 15,
   "id": "b6109089",
   "metadata": {},
   "outputs": [
    {
     "data": {
      "application/vnd.microsoft.datawrangler.viewer.v0+json": {
       "columns": [
        {
         "name": "('PROVINCE', 'DISTRICT', 'DIVISION', 'SUB DIVISION')",
         "rawType": "object",
         "type": "unknown"
        },
        {
         "name": "ALL SEXES (RURAL)",
         "rawType": "float64",
         "type": "float"
        }
       ],
       "ref": "e83dccc4-ef0e-4b62-8c23-4889b6be5cc8",
       "rows": [
        [
         "('BALOCHISTAN', 'AWARAN DISTRICT', 'Makran Division', 'AWARAN TEHSIL')",
         "8584.0"
        ],
        [
         "('BALOCHISTAN', 'AWARAN DISTRICT', 'Makran Division', 'GISHKORE SUB-TEHSIL')",
         "18390.0"
        ],
        [
         "('BALOCHISTAN', 'AWARAN DISTRICT', 'Makran Division', 'JHAL JAO SUB-TEHSIL')",
         "40010.0"
        ],
        [
         "('BALOCHISTAN', 'AWARAN DISTRICT', 'Makran Division', 'MASHKAI TEHSIL')",
         "20600.0"
        ],
        [
         "('BALOCHISTAN', 'BARKHAN DISTRICT', 'Zhob Division', 'BARKHAN TEHSIL')",
         "158824.0"
        ],
        [
         "('BALOCHISTAN', 'CHAGAI DISTRICT', 'Quetta Division', 'CHAGAI SUB-TEHSIL')",
         "58256.0"
        ],
        [
         "('BALOCHISTAN', 'CHAGAI DISTRICT', 'Quetta Division', 'DALBANDIN TEHSIL')",
         "111203.0"
        ],
        [
         "('BALOCHISTAN', 'CHAGAI DISTRICT', 'Quetta Division', 'NOKUNDI SUB-TEHSIL')",
         "22283.0"
        ],
        [
         "('BALOCHISTAN', 'CHAGAI DISTRICT', 'Quetta Division', 'TAFTAN SUB-TEHSIL')",
         "18510.0"
        ],
        [
         "('BALOCHISTAN', 'DERA BUGTI DISTRICT', 'Quetta Division', 'BAIKER SUB-TEHSIL')",
         "19497.0"
        ],
        [
         "('BALOCHISTAN', 'DERA BUGTI DISTRICT', 'Quetta Division', 'DERA BUGTI TEHSIL')",
         "20790.0"
        ],
        [
         "('BALOCHISTAN', 'DERA BUGTI DISTRICT', 'Quetta Division', 'LOTI TEHSIL')",
         "18058.0"
        ],
        [
         "('BALOCHISTAN', 'DERA BUGTI DISTRICT', 'Quetta Division', 'MALAM SUB-TEHSIL')",
         "27265.0"
        ],
        [
         "('BALOCHISTAN', 'DERA BUGTI DISTRICT', 'Quetta Division', 'PHELAWAGH TEHSIL')",
         "28054.0"
        ],
        [
         "('BALOCHISTAN', 'DERA BUGTI DISTRICT', 'Quetta Division', 'PIR KOH SUB-TEHSIL')",
         "40629.0"
        ],
        [
         "('BALOCHISTAN', 'DERA BUGTI DISTRICT', 'Quetta Division', 'SANGSILLAH SUB-TEHSIL')",
         "10217.0"
        ],
        [
         "('BALOCHISTAN', 'DERA BUGTI DISTRICT', 'Quetta Division', 'SUI TEHSIL')",
         "48235.0"
        ],
        [
         "('BALOCHISTAN', 'GWADAR DISTRICT', 'Makran Division', 'GWADAR TEHSIL')",
         "47494.0"
        ],
        [
         "('BALOCHISTAN', 'GWADAR DISTRICT', 'Makran Division', 'JIWANI TEHSIL')",
         "8423.0"
        ],
        [
         "('BALOCHISTAN', 'GWADAR DISTRICT', 'Makran Division', 'ORMARA TEHSIL')",
         "7881.0"
        ],
        [
         "('BALOCHISTAN', 'GWADAR DISTRICT', 'Makran Division', 'PASNI TEHSIL')",
         "26790.0"
        ],
        [
         "('BALOCHISTAN', 'GWADAR DISTRICT', 'Makran Division', 'SUNTSER SUB-TEHSIL')",
         "10886.0"
        ],
        [
         "('BALOCHISTAN', 'HARNAI DISTRICT', 'Quetta Division', 'HARNAI TEHSIL')",
         "50753.0"
        ],
        [
         "('BALOCHISTAN', 'HARNAI DISTRICT', 'Quetta Division', 'KHOAST SUB-TEHSIL')",
         "12279.0"
        ],
        [
         "('BALOCHISTAN', 'HARNAI DISTRICT', 'Quetta Division', 'SHAHRIG TEHSIL')",
         "9458.0"
        ],
        [
         "('BALOCHISTAN', 'JAFFARABAD DISTRICT', 'Naseerabad Division', 'GANDHAKA TEHSIL')",
         "74881.0"
        ],
        [
         "('BALOCHISTAN', 'JAFFARABAD DISTRICT', 'Naseerabad Division', 'JHAT PAT TEHSIL')",
         "172149.0"
        ],
        [
         "('BALOCHISTAN', 'JAFFARABAD DISTRICT', 'Naseerabad Division', 'USTA MUHAMMAD TEHSIL')",
         "109231.0"
        ],
        [
         "('BALOCHISTAN', 'JHAL MAGSI DISTRICT', 'Naseerabad Division', 'GANDAWA TEHSIL')",
         "43365.0"
        ],
        [
         "('BALOCHISTAN', 'JHAL MAGSI DISTRICT', 'Naseerabad Division', 'JHAL MAGSI TEHSIL')",
         "88279.0"
        ],
        [
         "('BALOCHISTAN', 'JHAL MAGSI DISTRICT', 'Naseerabad Division', 'MIRPUR SUB-TEHSIL')",
         "9441.0"
        ],
        [
         "('BALOCHISTAN', 'KACHHI DISTRICT', 'Naseerabad Division', 'BALANARI SUB-TEHSIL')",
         "43341.0"
        ],
        [
         "('BALOCHISTAN', 'KACHHI DISTRICT', 'Naseerabad Division', 'BHAG TEHSIL')",
         "56859.0"
        ],
        [
         "('BALOCHISTAN', 'KACHHI DISTRICT', 'Naseerabad Division', 'DHADAR TEHSIL')",
         "27149.0"
        ],
        [
         "('BALOCHISTAN', 'KACHHI DISTRICT', 'Naseerabad Division', 'KHATTAN SUB-TEHSIL')",
         "14213.0"
        ],
        [
         "('BALOCHISTAN', 'KACHHI DISTRICT', 'Naseerabad Division', 'MACH SUB-TEHSIL')",
         "20489.0"
        ],
        [
         "('BALOCHISTAN', 'KACHHI DISTRICT', 'Naseerabad Division', 'SANNI SUB-TEHSIL')",
         "96901.0"
        ],
        [
         "('BALOCHISTAN', 'KALAT DISTRICT', 'Kalat Division', 'GAZG SUB-TEHSIL')",
         "5721.0"
        ],
        [
         "('BALOCHISTAN', 'KALAT DISTRICT', 'Kalat Division', 'JOHAN SUB-TEHSIL')",
         "10708.0"
        ],
        [
         "('BALOCHISTAN', 'KALAT DISTRICT', 'Kalat Division', 'KALAT TEHSIL')",
         "92298.0"
        ],
        [
         "('BALOCHISTAN', 'KALAT DISTRICT', 'Kalat Division', 'MANGOCHAR TEHSIL')",
         "65678.0"
        ],
        [
         "('BALOCHISTAN', 'KALAT DISTRICT', 'Kalat Division', 'SURAB TEHSIL')",
         "165260.0"
        ],
        [
         "('BALOCHISTAN', 'KECH DISTRICT', 'Makran Division', 'BALNIGORE SUB-TEHSIL')",
         "44595.0"
        ],
        [
         "('BALOCHISTAN', 'KECH DISTRICT', 'Makran Division', 'BULAIDA SUB-TEHSIL')",
         "37302.0"
        ],
        [
         "('BALOCHISTAN', 'KECH DISTRICT', 'Makran Division', 'DASHT SUB-TEHSIL')",
         "76470.0"
        ],
        [
         "('BALOCHISTAN', 'KECH DISTRICT', 'Makran Division', 'HOSHAB SUB-TEHSIL')",
         "52947.0"
        ],
        [
         "('BALOCHISTAN', 'KECH DISTRICT', 'Makran Division', 'KECH (TURBAT) TEHSIL')",
         "202777.0"
        ],
        [
         "('BALOCHISTAN', 'KECH DISTRICT', 'Makran Division', 'MAND SUB-TEHSIL')",
         "50995.0"
        ],
        [
         "('BALOCHISTAN', 'KECH DISTRICT', 'Makran Division', 'TUMP SUB-TEHSIL')",
         "97665.0"
        ],
        [
         "('BALOCHISTAN', 'KECH DISTRICT', 'Makran Division', 'ZAMORAN SUB-TEHSIL')",
         "42411.0"
        ]
       ],
       "shape": {
        "columns": 1,
        "rows": 528
       }
      },
      "text/plain": [
       "PROVINCE     DISTRICT           DIVISION             SUB DIVISION       \n",
       "BALOCHISTAN  AWARAN DISTRICT    Makran Division      AWARAN TEHSIL            8584.0\n",
       "                                                     GISHKORE SUB-TEHSIL     18390.0\n",
       "                                                     JHAL JAO SUB-TEHSIL     40010.0\n",
       "                                                     MASHKAI TEHSIL          20600.0\n",
       "             BARKHAN DISTRICT   Zhob Division        BARKHAN TEHSIL         158824.0\n",
       "                                                                              ...   \n",
       "SINDH        THATTA DISTRICT    Hyderabad Division   THATTA TALUKA          304828.0\n",
       "             UMER KOT DISTRICT  Mirpurkhas Division  KUNRI TALUKA           179266.0\n",
       "                                                     PITHORO TALUKA         107033.0\n",
       "                                                     SAMARO TALUKA          160967.0\n",
       "                                                     UMER KOT TALUKA        382666.0\n",
       "Name: ALL SEXES (RURAL), Length: 528, dtype: float64"
      ]
     },
     "execution_count": 15,
     "metadata": {},
     "output_type": "execute_result"
    }
   ],
   "source": [
    "df.groupby(['PROVINCE', 'DISTRICT', 'DIVISION', 'SUB DIVISION'])['ALL SEXES (RURAL)'].mean()"
   ]
  },
  {
   "cell_type": "code",
   "execution_count": 16,
   "id": "27c56296",
   "metadata": {},
   "outputs": [
    {
     "data": {
      "application/vnd.microsoft.datawrangler.viewer.v0+json": {
       "columns": [
        {
         "name": "('PROVINCE', 'DISTRICT', 'DIVISION', 'SUB DIVISION')",
         "rawType": "object",
         "type": "unknown"
        },
        {
         "name": "POPULATION 1998 (RURAL)",
         "rawType": "float64",
         "type": "float"
        }
       ],
       "ref": "c3089cba-86ef-49ae-b37e-75721cc568f5",
       "rows": [
        [
         "('BALOCHISTAN', 'AWARAN DISTRICT', 'Makran Division', 'AWARAN TEHSIL')",
         "27156.0"
        ],
        [
         "('BALOCHISTAN', 'AWARAN DISTRICT', 'Makran Division', 'GISHKORE SUB-TEHSIL')",
         "22430.0"
        ],
        [
         "('BALOCHISTAN', 'AWARAN DISTRICT', 'Makran Division', 'JHAL JAO SUB-TEHSIL')",
         "34214.0"
        ],
        [
         "('BALOCHISTAN', 'AWARAN DISTRICT', 'Makran Division', 'MASHKAI TEHSIL')",
         "34373.0"
        ],
        [
         "('BALOCHISTAN', 'BARKHAN DISTRICT', 'Zhob Division', 'BARKHAN TEHSIL')",
         "95875.0"
        ],
        [
         "('BALOCHISTAN', 'CHAGAI DISTRICT', 'Quetta Division', 'CHAGAI SUB-TEHSIL')",
         "22511.0"
        ],
        [
         "('BALOCHISTAN', 'CHAGAI DISTRICT', 'Quetta Division', 'DALBANDIN TEHSIL')",
         "48380.0"
        ],
        [
         "('BALOCHISTAN', 'CHAGAI DISTRICT', 'Quetta Division', 'NOKUNDI SUB-TEHSIL')",
         "14029.0"
        ],
        [
         "('BALOCHISTAN', 'CHAGAI DISTRICT', 'Quetta Division', 'TAFTAN SUB-TEHSIL')",
         "7666.0"
        ],
        [
         "('BALOCHISTAN', 'DERA BUGTI DISTRICT', 'Quetta Division', 'BAIKER SUB-TEHSIL')",
         "5305.0"
        ],
        [
         "('BALOCHISTAN', 'DERA BUGTI DISTRICT', 'Quetta Division', 'DERA BUGTI TEHSIL')",
         "16908.0"
        ],
        [
         "('BALOCHISTAN', 'DERA BUGTI DISTRICT', 'Quetta Division', 'LOTI TEHSIL')",
         "8491.0"
        ],
        [
         "('BALOCHISTAN', 'DERA BUGTI DISTRICT', 'Quetta Division', 'MALAM SUB-TEHSIL')",
         "19504.0"
        ],
        [
         "('BALOCHISTAN', 'DERA BUGTI DISTRICT', 'Quetta Division', 'PHELAWAGH TEHSIL')",
         "11760.0"
        ],
        [
         "('BALOCHISTAN', 'DERA BUGTI DISTRICT', 'Quetta Division', 'PIR KOH SUB-TEHSIL')",
         "27448.0"
        ],
        [
         "('BALOCHISTAN', 'DERA BUGTI DISTRICT', 'Quetta Division', 'SANGSILLAH SUB-TEHSIL')",
         "13700.0"
        ],
        [
         "('BALOCHISTAN', 'DERA BUGTI DISTRICT', 'Quetta Division', 'SUI TEHSIL')",
         "62699.0"
        ],
        [
         "('BALOCHISTAN', 'GWADAR DISTRICT', 'Makran Division', 'GWADAR TEHSIL')",
         "27593.0"
        ],
        [
         "('BALOCHISTAN', 'GWADAR DISTRICT', 'Makran Division', 'JIWANI TEHSIL')",
         "5716.0"
        ],
        [
         "('BALOCHISTAN', 'GWADAR DISTRICT', 'Makran Division', 'ORMARA TEHSIL')",
         "7327.0"
        ],
        [
         "('BALOCHISTAN', 'GWADAR DISTRICT', 'Makran Division', 'PASNI TEHSIL')",
         "27364.0"
        ],
        [
         "('BALOCHISTAN', 'GWADAR DISTRICT', 'Makran Division', 'SUNTSER SUB-TEHSIL')",
         "17346.0"
        ],
        [
         "('BALOCHISTAN', 'HARNAI DISTRICT', 'Quetta Division', 'HARNAI TEHSIL')",
         "42123.0"
        ],
        [
         "('BALOCHISTAN', 'HARNAI DISTRICT', 'Quetta Division', 'KHOAST SUB-TEHSIL')",
         "9908.0"
        ],
        [
         "('BALOCHISTAN', 'HARNAI DISTRICT', 'Quetta Division', 'SHAHRIG TEHSIL')",
         "15262.0"
        ],
        [
         "('BALOCHISTAN', 'JAFFARABAD DISTRICT', 'Naseerabad Division', 'GANDHAKA TEHSIL')",
         "52767.0"
        ],
        [
         "('BALOCHISTAN', 'JAFFARABAD DISTRICT', 'Naseerabad Division', 'JHAT PAT TEHSIL')",
         "92689.0"
        ],
        [
         "('BALOCHISTAN', 'JAFFARABAD DISTRICT', 'Naseerabad Division', 'USTA MUHAMMAD TEHSIL')",
         "68517.0"
        ],
        [
         "('BALOCHISTAN', 'JHAL MAGSI DISTRICT', 'Naseerabad Division', 'GANDAWA TEHSIL')",
         "26694.0"
        ],
        [
         "('BALOCHISTAN', 'JHAL MAGSI DISTRICT', 'Naseerabad Division', 'JHAL MAGSI TEHSIL')",
         "63588.0"
        ],
        [
         "('BALOCHISTAN', 'JHAL MAGSI DISTRICT', 'Naseerabad Division', 'MIRPUR SUB-TEHSIL')",
         "11562.0"
        ],
        [
         "('BALOCHISTAN', 'KACHHI DISTRICT', 'Naseerabad Division', 'BALANARI SUB-TEHSIL')",
         "39597.0"
        ],
        [
         "('BALOCHISTAN', 'KACHHI DISTRICT', 'Naseerabad Division', 'BHAG TEHSIL')",
         "43842.0"
        ],
        [
         "('BALOCHISTAN', 'KACHHI DISTRICT', 'Naseerabad Division', 'DHADAR TEHSIL')",
         "32663.0"
        ],
        [
         "('BALOCHISTAN', 'KACHHI DISTRICT', 'Naseerabad Division', 'KHATTAN SUB-TEHSIL')",
         "7202.0"
        ],
        [
         "('BALOCHISTAN', 'KACHHI DISTRICT', 'Naseerabad Division', 'MACH SUB-TEHSIL')",
         "15619.0"
        ],
        [
         "('BALOCHISTAN', 'KACHHI DISTRICT', 'Naseerabad Division', 'SANNI SUB-TEHSIL')",
         "77070.0"
        ],
        [
         "('BALOCHISTAN', 'KALAT DISTRICT', 'Kalat Division', 'GAZG SUB-TEHSIL')",
         "3979.0"
        ],
        [
         "('BALOCHISTAN', 'KALAT DISTRICT', 'Kalat Division', 'JOHAN SUB-TEHSIL')",
         "12299.0"
        ],
        [
         "('BALOCHISTAN', 'KALAT DISTRICT', 'Kalat Division', 'KALAT TEHSIL')",
         "63919.0"
        ],
        [
         "('BALOCHISTAN', 'KALAT DISTRICT', 'Kalat Division', 'MANGOCHAR TEHSIL')",
         "41590.0"
        ],
        [
         "('BALOCHISTAN', 'KALAT DISTRICT', 'Kalat Division', 'SURAB TEHSIL')",
         "82253.0"
        ],
        [
         "('BALOCHISTAN', 'KECH DISTRICT', 'Makran Division', 'BALNIGORE SUB-TEHSIL')",
         "19560.0"
        ],
        [
         "('BALOCHISTAN', 'KECH DISTRICT', 'Makran Division', 'BULAIDA SUB-TEHSIL')",
         "35251.0"
        ],
        [
         "('BALOCHISTAN', 'KECH DISTRICT', 'Makran Division', 'DASHT SUB-TEHSIL')",
         "39061.0"
        ],
        [
         "('BALOCHISTAN', 'KECH DISTRICT', 'Makran Division', 'HOSHAB SUB-TEHSIL')",
         "37819.0"
        ],
        [
         "('BALOCHISTAN', 'KECH DISTRICT', 'Makran Division', 'KECH (TURBAT) TEHSIL')",
         "88539.0"
        ],
        [
         "('BALOCHISTAN', 'KECH DISTRICT', 'Makran Division', 'MAND SUB-TEHSIL')",
         "35281.0"
        ],
        [
         "('BALOCHISTAN', 'KECH DISTRICT', 'Makran Division', 'TUMP SUB-TEHSIL')",
         "51234.0"
        ],
        [
         "('BALOCHISTAN', 'KECH DISTRICT', 'Makran Division', 'ZAMORAN SUB-TEHSIL')",
         "37856.0"
        ]
       ],
       "shape": {
        "columns": 1,
        "rows": 528
       }
      },
      "text/plain": [
       "PROVINCE     DISTRICT           DIVISION             SUB DIVISION       \n",
       "BALOCHISTAN  AWARAN DISTRICT    Makran Division      AWARAN TEHSIL           27156.0\n",
       "                                                     GISHKORE SUB-TEHSIL     22430.0\n",
       "                                                     JHAL JAO SUB-TEHSIL     34214.0\n",
       "                                                     MASHKAI TEHSIL          34373.0\n",
       "             BARKHAN DISTRICT   Zhob Division        BARKHAN TEHSIL          95875.0\n",
       "                                                                              ...   \n",
       "SINDH        THATTA DISTRICT    Hyderabad Division   THATTA TALUKA          216233.0\n",
       "             UMER KOT DISTRICT  Mirpurkhas Division  KUNRI TALUKA           130349.0\n",
       "                                                     PITHORO TALUKA          71204.0\n",
       "                                                     SAMARO TALUKA          105274.0\n",
       "                                                     UMER KOT TALUKA        246506.0\n",
       "Name: POPULATION 1998 (RURAL), Length: 528, dtype: float64"
      ]
     },
     "execution_count": 16,
     "metadata": {},
     "output_type": "execute_result"
    }
   ],
   "source": [
    "# find population of each province, district and division and subdivision of population 1998 rural\n",
    "df.groupby(['PROVINCE', 'DISTRICT', 'DIVISION', 'SUB DIVISION'])['POPULATION 1998 (RURAL)'].mean()"
   ]
  },
  {
   "cell_type": "code",
   "execution_count": 17,
   "id": "d0a881a8",
   "metadata": {},
   "outputs": [
    {
     "data": {
      "application/vnd.microsoft.datawrangler.viewer.v0+json": {
       "columns": [
        {
         "name": "index",
         "rawType": "object",
         "type": "string"
        },
        {
         "name": "count",
         "rawType": "float64",
         "type": "float"
        },
        {
         "name": "mean",
         "rawType": "float64",
         "type": "float"
        },
        {
         "name": "std",
         "rawType": "float64",
         "type": "float"
        },
        {
         "name": "min",
         "rawType": "float64",
         "type": "float"
        },
        {
         "name": "25%",
         "rawType": "float64",
         "type": "float"
        },
        {
         "name": "50%",
         "rawType": "float64",
         "type": "float"
        },
        {
         "name": "75%",
         "rawType": "float64",
         "type": "float"
        },
        {
         "name": "max",
         "rawType": "float64",
         "type": "float"
        }
       ],
       "ref": "e8d07385-8395-4c18-b200-49b2edd53f09",
       "rows": [
        [
         "AREA (sq.km)",
         "528.0",
         "1492.005871212121",
         "2039.453778210461",
         "0.0",
         "425.0",
         "882.0",
         "1734.25",
         "18374.0"
        ],
        [
         "ALL SEXES (RURAL)",
         "528.0",
         "246278.01136363635",
         "271189.81655913533",
         "0.0",
         "50934.5",
         "165241.0",
         "312911.25",
         "2297375.0"
        ],
        [
         "MALE (RURAL)",
         "528.0",
         "125275.6875",
         "137563.02145832204",
         "0.0",
         "27127.25",
         "84134.5",
         "160502.25",
         "1172995.0"
        ],
        [
         "FEMALE (RURAL)",
         "528.0",
         "120984.14962121213",
         "133716.8982962157",
         "0.0",
         "23979.0",
         "82044.0",
         "152219.0",
         "1124167.0"
        ],
        [
         "TRANSGENDER (RURAL)",
         "528.0",
         "18.174242424242426",
         "25.52224797583435",
         "0.0",
         "1.0",
         "10.0",
         "25.0",
         "213.0"
        ],
        [
         "SEX RATIO (RURAL)",
         "528.0",
         "98.98261363636364",
         "26.812659963763632",
         "0.0",
         "101.105",
         "105.285",
         "108.3475",
         "139.38"
        ],
        [
         "AVG HOUSEHOLD SIZE (RURAL)",
         "528.0",
         "6.277064393939394",
         "2.0749468568721596",
         "0.0",
         "5.7",
         "6.31",
         "7.2",
         "12.43"
        ],
        [
         "POPULATION 1998 (RURAL)",
         "528.0",
         "167427.99431818182",
         "178388.97699251067",
         "0.0",
         "35273.5",
         "117206.5",
         "213054.25",
         "1044035.0"
        ],
        [
         "ANNUAL GROWTH RATE (RURAL)",
         "528.0",
         "3.1247916666666664",
         "9.57787173131309",
         "0.0",
         "1.44",
         "2.03",
         "2.8125",
         "100.0"
        ],
        [
         "ALL SEXES (URBAN)",
         "528.0",
         "140863.5284090909",
         "351246.2791356469",
         "0.0",
         "0.0",
         "43254.5",
         "117814.75",
         "3653616.0"
        ],
        [
         "MALE (URBAN)",
         "528.0",
         "72843.38636363637",
         "182349.2413790539",
         "0.0",
         "0.0",
         "21980.0",
         "60301.75",
         "1905921.0"
        ],
        [
         "FEMALE (URBAN)",
         "528.0",
         "67997.86553030302",
         "168872.52821213394",
         "0.0",
         "0.0",
         "20999.0",
         "57465.25",
         "1746900.0"
        ],
        [
         "TRANSGENDER (URBAN)",
         "528.0",
         "22.276515151515152",
         "66.06812694544523",
         "0.0",
         "0.0",
         "3.0",
         "19.0",
         "795.0"
        ],
        [
         "SEX RATIO (URBAN)",
         "528.0",
         "75.41126893939395",
         "49.687340945047495",
         "0.0",
         "0.0",
         "103.195",
         "107.04",
         "297.81"
        ],
        [
         "AVG HOUSEHOLD SIZE (URBAN)",
         "528.0",
         "4.406401515151515",
         "2.9483358323019533",
         "0.0",
         "0.0",
         "5.755",
         "6.34",
         "10.06"
        ],
        [
         "POPULATION 1998 (URBAN)",
         "528.0",
         "80144.56628787878",
         "202312.01922696535",
         "0.0",
         "0.0",
         "21298.0",
         "65422.25",
         "2075867.0"
        ],
        [
         "ANNUAL GROWTH RATE (URBAN)",
         "528.0",
         "1.920814393939394",
         "2.0989080696947195",
         "0.0",
         "0.0",
         "1.855",
         "2.985",
         "19.78"
        ]
       ],
       "shape": {
        "columns": 8,
        "rows": 17
       }
      },
      "text/html": [
       "<div>\n",
       "<style scoped>\n",
       "    .dataframe tbody tr th:only-of-type {\n",
       "        vertical-align: middle;\n",
       "    }\n",
       "\n",
       "    .dataframe tbody tr th {\n",
       "        vertical-align: top;\n",
       "    }\n",
       "\n",
       "    .dataframe thead th {\n",
       "        text-align: right;\n",
       "    }\n",
       "</style>\n",
       "<table border=\"1\" class=\"dataframe\">\n",
       "  <thead>\n",
       "    <tr style=\"text-align: right;\">\n",
       "      <th></th>\n",
       "      <th>count</th>\n",
       "      <th>mean</th>\n",
       "      <th>std</th>\n",
       "      <th>min</th>\n",
       "      <th>25%</th>\n",
       "      <th>50%</th>\n",
       "      <th>75%</th>\n",
       "      <th>max</th>\n",
       "    </tr>\n",
       "  </thead>\n",
       "  <tbody>\n",
       "    <tr>\n",
       "      <th>AREA (sq.km)</th>\n",
       "      <td>528.0</td>\n",
       "      <td>1492.005871</td>\n",
       "      <td>2039.453778</td>\n",
       "      <td>0.0</td>\n",
       "      <td>425.000</td>\n",
       "      <td>882.000</td>\n",
       "      <td>1734.2500</td>\n",
       "      <td>18374.00</td>\n",
       "    </tr>\n",
       "    <tr>\n",
       "      <th>ALL SEXES (RURAL)</th>\n",
       "      <td>528.0</td>\n",
       "      <td>246278.011364</td>\n",
       "      <td>271189.816559</td>\n",
       "      <td>0.0</td>\n",
       "      <td>50934.500</td>\n",
       "      <td>165241.000</td>\n",
       "      <td>312911.2500</td>\n",
       "      <td>2297375.00</td>\n",
       "    </tr>\n",
       "    <tr>\n",
       "      <th>MALE (RURAL)</th>\n",
       "      <td>528.0</td>\n",
       "      <td>125275.687500</td>\n",
       "      <td>137563.021458</td>\n",
       "      <td>0.0</td>\n",
       "      <td>27127.250</td>\n",
       "      <td>84134.500</td>\n",
       "      <td>160502.2500</td>\n",
       "      <td>1172995.00</td>\n",
       "    </tr>\n",
       "    <tr>\n",
       "      <th>FEMALE (RURAL)</th>\n",
       "      <td>528.0</td>\n",
       "      <td>120984.149621</td>\n",
       "      <td>133716.898296</td>\n",
       "      <td>0.0</td>\n",
       "      <td>23979.000</td>\n",
       "      <td>82044.000</td>\n",
       "      <td>152219.0000</td>\n",
       "      <td>1124167.00</td>\n",
       "    </tr>\n",
       "    <tr>\n",
       "      <th>TRANSGENDER (RURAL)</th>\n",
       "      <td>528.0</td>\n",
       "      <td>18.174242</td>\n",
       "      <td>25.522248</td>\n",
       "      <td>0.0</td>\n",
       "      <td>1.000</td>\n",
       "      <td>10.000</td>\n",
       "      <td>25.0000</td>\n",
       "      <td>213.00</td>\n",
       "    </tr>\n",
       "    <tr>\n",
       "      <th>SEX RATIO (RURAL)</th>\n",
       "      <td>528.0</td>\n",
       "      <td>98.982614</td>\n",
       "      <td>26.812660</td>\n",
       "      <td>0.0</td>\n",
       "      <td>101.105</td>\n",
       "      <td>105.285</td>\n",
       "      <td>108.3475</td>\n",
       "      <td>139.38</td>\n",
       "    </tr>\n",
       "    <tr>\n",
       "      <th>AVG HOUSEHOLD SIZE (RURAL)</th>\n",
       "      <td>528.0</td>\n",
       "      <td>6.277064</td>\n",
       "      <td>2.074947</td>\n",
       "      <td>0.0</td>\n",
       "      <td>5.700</td>\n",
       "      <td>6.310</td>\n",
       "      <td>7.2000</td>\n",
       "      <td>12.43</td>\n",
       "    </tr>\n",
       "    <tr>\n",
       "      <th>POPULATION 1998 (RURAL)</th>\n",
       "      <td>528.0</td>\n",
       "      <td>167427.994318</td>\n",
       "      <td>178388.976993</td>\n",
       "      <td>0.0</td>\n",
       "      <td>35273.500</td>\n",
       "      <td>117206.500</td>\n",
       "      <td>213054.2500</td>\n",
       "      <td>1044035.00</td>\n",
       "    </tr>\n",
       "    <tr>\n",
       "      <th>ANNUAL GROWTH RATE (RURAL)</th>\n",
       "      <td>528.0</td>\n",
       "      <td>3.124792</td>\n",
       "      <td>9.577872</td>\n",
       "      <td>0.0</td>\n",
       "      <td>1.440</td>\n",
       "      <td>2.030</td>\n",
       "      <td>2.8125</td>\n",
       "      <td>100.00</td>\n",
       "    </tr>\n",
       "    <tr>\n",
       "      <th>ALL SEXES (URBAN)</th>\n",
       "      <td>528.0</td>\n",
       "      <td>140863.528409</td>\n",
       "      <td>351246.279136</td>\n",
       "      <td>0.0</td>\n",
       "      <td>0.000</td>\n",
       "      <td>43254.500</td>\n",
       "      <td>117814.7500</td>\n",
       "      <td>3653616.00</td>\n",
       "    </tr>\n",
       "    <tr>\n",
       "      <th>MALE (URBAN)</th>\n",
       "      <td>528.0</td>\n",
       "      <td>72843.386364</td>\n",
       "      <td>182349.241379</td>\n",
       "      <td>0.0</td>\n",
       "      <td>0.000</td>\n",
       "      <td>21980.000</td>\n",
       "      <td>60301.7500</td>\n",
       "      <td>1905921.00</td>\n",
       "    </tr>\n",
       "    <tr>\n",
       "      <th>FEMALE (URBAN)</th>\n",
       "      <td>528.0</td>\n",
       "      <td>67997.865530</td>\n",
       "      <td>168872.528212</td>\n",
       "      <td>0.0</td>\n",
       "      <td>0.000</td>\n",
       "      <td>20999.000</td>\n",
       "      <td>57465.2500</td>\n",
       "      <td>1746900.00</td>\n",
       "    </tr>\n",
       "    <tr>\n",
       "      <th>TRANSGENDER (URBAN)</th>\n",
       "      <td>528.0</td>\n",
       "      <td>22.276515</td>\n",
       "      <td>66.068127</td>\n",
       "      <td>0.0</td>\n",
       "      <td>0.000</td>\n",
       "      <td>3.000</td>\n",
       "      <td>19.0000</td>\n",
       "      <td>795.00</td>\n",
       "    </tr>\n",
       "    <tr>\n",
       "      <th>SEX RATIO (URBAN)</th>\n",
       "      <td>528.0</td>\n",
       "      <td>75.411269</td>\n",
       "      <td>49.687341</td>\n",
       "      <td>0.0</td>\n",
       "      <td>0.000</td>\n",
       "      <td>103.195</td>\n",
       "      <td>107.0400</td>\n",
       "      <td>297.81</td>\n",
       "    </tr>\n",
       "    <tr>\n",
       "      <th>AVG HOUSEHOLD SIZE (URBAN)</th>\n",
       "      <td>528.0</td>\n",
       "      <td>4.406402</td>\n",
       "      <td>2.948336</td>\n",
       "      <td>0.0</td>\n",
       "      <td>0.000</td>\n",
       "      <td>5.755</td>\n",
       "      <td>6.3400</td>\n",
       "      <td>10.06</td>\n",
       "    </tr>\n",
       "    <tr>\n",
       "      <th>POPULATION 1998 (URBAN)</th>\n",
       "      <td>528.0</td>\n",
       "      <td>80144.566288</td>\n",
       "      <td>202312.019227</td>\n",
       "      <td>0.0</td>\n",
       "      <td>0.000</td>\n",
       "      <td>21298.000</td>\n",
       "      <td>65422.2500</td>\n",
       "      <td>2075867.00</td>\n",
       "    </tr>\n",
       "    <tr>\n",
       "      <th>ANNUAL GROWTH RATE (URBAN)</th>\n",
       "      <td>528.0</td>\n",
       "      <td>1.920814</td>\n",
       "      <td>2.098908</td>\n",
       "      <td>0.0</td>\n",
       "      <td>0.000</td>\n",
       "      <td>1.855</td>\n",
       "      <td>2.9850</td>\n",
       "      <td>19.78</td>\n",
       "    </tr>\n",
       "  </tbody>\n",
       "</table>\n",
       "</div>"
      ],
      "text/plain": [
       "                            count           mean            std  min  \\\n",
       "AREA (sq.km)                528.0    1492.005871    2039.453778  0.0   \n",
       "ALL SEXES (RURAL)           528.0  246278.011364  271189.816559  0.0   \n",
       "MALE (RURAL)                528.0  125275.687500  137563.021458  0.0   \n",
       "FEMALE (RURAL)              528.0  120984.149621  133716.898296  0.0   \n",
       "TRANSGENDER (RURAL)         528.0      18.174242      25.522248  0.0   \n",
       "SEX RATIO (RURAL)           528.0      98.982614      26.812660  0.0   \n",
       "AVG HOUSEHOLD SIZE (RURAL)  528.0       6.277064       2.074947  0.0   \n",
       "POPULATION 1998 (RURAL)     528.0  167427.994318  178388.976993  0.0   \n",
       "ANNUAL GROWTH RATE (RURAL)  528.0       3.124792       9.577872  0.0   \n",
       "ALL SEXES (URBAN)           528.0  140863.528409  351246.279136  0.0   \n",
       "MALE (URBAN)                528.0   72843.386364  182349.241379  0.0   \n",
       "FEMALE (URBAN)              528.0   67997.865530  168872.528212  0.0   \n",
       "TRANSGENDER (URBAN)         528.0      22.276515      66.068127  0.0   \n",
       "SEX RATIO (URBAN)           528.0      75.411269      49.687341  0.0   \n",
       "AVG HOUSEHOLD SIZE (URBAN)  528.0       4.406402       2.948336  0.0   \n",
       "POPULATION 1998 (URBAN)     528.0   80144.566288  202312.019227  0.0   \n",
       "ANNUAL GROWTH RATE (URBAN)  528.0       1.920814       2.098908  0.0   \n",
       "\n",
       "                                  25%         50%          75%         max  \n",
       "AREA (sq.km)                  425.000     882.000    1734.2500    18374.00  \n",
       "ALL SEXES (RURAL)           50934.500  165241.000  312911.2500  2297375.00  \n",
       "MALE (RURAL)                27127.250   84134.500  160502.2500  1172995.00  \n",
       "FEMALE (RURAL)              23979.000   82044.000  152219.0000  1124167.00  \n",
       "TRANSGENDER (RURAL)             1.000      10.000      25.0000      213.00  \n",
       "SEX RATIO (RURAL)             101.105     105.285     108.3475      139.38  \n",
       "AVG HOUSEHOLD SIZE (RURAL)      5.700       6.310       7.2000       12.43  \n",
       "POPULATION 1998 (RURAL)     35273.500  117206.500  213054.2500  1044035.00  \n",
       "ANNUAL GROWTH RATE (RURAL)      1.440       2.030       2.8125      100.00  \n",
       "ALL SEXES (URBAN)               0.000   43254.500  117814.7500  3653616.00  \n",
       "MALE (URBAN)                    0.000   21980.000   60301.7500  1905921.00  \n",
       "FEMALE (URBAN)                  0.000   20999.000   57465.2500  1746900.00  \n",
       "TRANSGENDER (URBAN)             0.000       3.000      19.0000      795.00  \n",
       "SEX RATIO (URBAN)               0.000     103.195     107.0400      297.81  \n",
       "AVG HOUSEHOLD SIZE (URBAN)      0.000       5.755       6.3400       10.06  \n",
       "POPULATION 1998 (URBAN)         0.000   21298.000   65422.2500  2075867.00  \n",
       "ANNUAL GROWTH RATE (URBAN)      0.000       1.855       2.9850       19.78  "
      ]
     },
     "execution_count": 17,
     "metadata": {},
     "output_type": "execute_result"
    }
   ],
   "source": [
    "df.describe().T"
   ]
  },
  {
   "cell_type": "code",
   "execution_count": 18,
   "id": "9fad5637",
   "metadata": {},
   "outputs": [
    {
     "data": {
      "text/plain": [
       "np.int64(130034790)"
      ]
     },
     "execution_count": 18,
     "metadata": {},
     "output_type": "execute_result"
    }
   ],
   "source": [
    "df['ALL SEXES (RURAL)'].sum()"
   ]
  },
  {
   "cell_type": "code",
   "execution_count": 19,
   "id": "3ddbc12b",
   "metadata": {},
   "outputs": [
    {
     "name": "stdout",
     "output_type": "stream",
     "text": [
      "Total Population of Pakistan in 2017 is:  130034790\n"
     ]
    }
   ],
   "source": [
    "print(\"Total Population of Pakistan in 2017 is: \", df['ALL SEXES (RURAL)'].sum())"
   ]
  },
  {
   "cell_type": "code",
   "execution_count": 20,
   "id": "e50cdabb",
   "metadata": {},
   "outputs": [
    {
     "name": "stdout",
     "output_type": "stream",
     "text": [
      "Total Population of Pakistan in 1998 is:  88401981\n"
     ]
    }
   ],
   "source": [
    "print(\"Total Population of Pakistan in 1998 is: \", df['POPULATION 1998 (RURAL)'].sum())"
   ]
  },
  {
   "cell_type": "code",
   "execution_count": null,
   "id": "ee1ec9ca",
   "metadata": {},
   "outputs": [],
   "source": []
  }
 ],
 "metadata": {
  "kernelspec": {
   "display_name": "python_eda",
   "language": "python",
   "name": "python3"
  },
  "language_info": {
   "codemirror_mode": {
    "name": "ipython",
    "version": 3
   },
   "file_extension": ".py",
   "mimetype": "text/x-python",
   "name": "python",
   "nbconvert_exporter": "python",
   "pygments_lexer": "ipython3",
   "version": "3.12.0"
  }
 },
 "nbformat": 4,
 "nbformat_minor": 5
}
